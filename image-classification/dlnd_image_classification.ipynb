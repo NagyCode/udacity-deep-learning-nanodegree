{
 "cells": [
  {
   "cell_type": "markdown",
   "metadata": {
    "collapsed": true,
    "deletable": true,
    "editable": true
   },
   "source": [
    "# Image Classification\n",
    "In this project, you'll classify images from the [CIFAR-10 dataset](https://www.cs.toronto.edu/~kriz/cifar.html).  The dataset consists of airplanes, dogs, cats, and other objects. You'll preprocess the images, then train a convolutional neural network on all the samples. The images need to be normalized and the labels need to be one-hot encoded.  You'll get to apply what you learned and build a convolutional, max pooling, dropout, and fully connected layers.  At the end, you'll get to see your neural network's predictions on the sample images.\n",
    "## Get the Data\n",
    "Run the following cell to download the [CIFAR-10 dataset for python](https://www.cs.toronto.edu/~kriz/cifar-10-python.tar.gz)."
   ]
  },
  {
   "cell_type": "code",
   "execution_count": 1,
   "metadata": {
    "collapsed": false,
    "deletable": true,
    "editable": true
   },
   "outputs": [
    {
     "name": "stderr",
     "output_type": "stream",
     "text": [
      "CIFAR-10 Dataset: 171MB [00:32, 5.25MB/s]                              \n"
     ]
    },
    {
     "name": "stdout",
     "output_type": "stream",
     "text": [
      "All files found!\n"
     ]
    }
   ],
   "source": [
    "\"\"\"\n",
    "DON'T MODIFY ANYTHING IN THIS CELL THAT IS BELOW THIS LINE\n",
    "\"\"\"\n",
    "from urllib.request import urlretrieve\n",
    "from os.path import isfile, isdir\n",
    "from tqdm import tqdm\n",
    "import problem_unittests as tests\n",
    "import tarfile\n",
    "import math\n",
    "\n",
    "cifar10_dataset_folder_path = 'cifar-10-batches-py'\n",
    "\n",
    "class DLProgress(tqdm):\n",
    "    last_block = 0\n",
    "\n",
    "    def hook(self, block_num=1, block_size=1, total_size=None):\n",
    "        self.total = total_size\n",
    "        self.update((block_num - self.last_block) * block_size)\n",
    "        self.last_block = block_num\n",
    "\n",
    "if not isfile('cifar-10-python.tar.gz'):\n",
    "    with DLProgress(unit='B', unit_scale=True, miniters=1, desc='CIFAR-10 Dataset') as pbar:\n",
    "        urlretrieve(\n",
    "            'https://www.cs.toronto.edu/~kriz/cifar-10-python.tar.gz',\n",
    "            'cifar-10-python.tar.gz',\n",
    "            pbar.hook)\n",
    "\n",
    "if not isdir(cifar10_dataset_folder_path):\n",
    "    with tarfile.open('cifar-10-python.tar.gz') as tar:\n",
    "        tar.extractall()\n",
    "        tar.close()\n",
    "\n",
    "\n",
    "tests.test_folder_path(cifar10_dataset_folder_path)"
   ]
  },
  {
   "cell_type": "markdown",
   "metadata": {
    "deletable": true,
    "editable": true
   },
   "source": [
    "## Explore the Data\n",
    "The dataset is broken into batches to prevent your machine from running out of memory.  The CIFAR-10 dataset consists of 5 batches, named `data_batch_1`, `data_batch_2`, etc.. Each batch contains the labels and images that are one of the following:\n",
    "* airplane\n",
    "* automobile\n",
    "* bird\n",
    "* cat\n",
    "* deer\n",
    "* dog\n",
    "* frog\n",
    "* horse\n",
    "* ship\n",
    "* truck\n",
    "\n",
    "Understanding a dataset is part of making predictions on the data.  Play around with the code cell below by changing the `batch_id` and `sample_id`. The `batch_id` is the id for a batch (1-5). The `sample_id` is the id for a image and label pair in the batch.\n",
    "\n",
    "Ask yourself \"What are all possible labels?\", \"What is the range of values for the image data?\", \"Are the labels in order or random?\".  Answers to questions like these will help you preprocess the data and end up with better predictions."
   ]
  },
  {
   "cell_type": "code",
   "execution_count": 2,
   "metadata": {
    "collapsed": false,
    "deletable": true,
    "editable": true
   },
   "outputs": [
    {
     "name": "stdout",
     "output_type": "stream",
     "text": [
      "\n",
      "Stats of batch 1:\n",
      "Samples: 10000\n",
      "Label Counts: {0: 1005, 1: 974, 2: 1032, 3: 1016, 4: 999, 5: 937, 6: 1030, 7: 1001, 8: 1025, 9: 981}\n",
      "First 20 Labels: [6, 9, 9, 4, 1, 1, 2, 7, 8, 3, 4, 7, 7, 2, 9, 9, 9, 3, 2, 6]\n",
      "\n",
      "Example of Image 5:\n",
      "Image - Min Value: 0 Max Value: 252\n",
      "Image - Shape: (32, 32, 3)\n",
      "Label - Label Id: 1 Name: automobile\n"
     ]
    },
    {
     "data": {
      "image/png": "[encoded data removed]",
      "text/plain": [
       "<matplotlib.figure.Figure at 0x7fb765e25048>"
      ]
     },
     "metadata": {
      "image/png": {
       "height": 250,
       "width": 253
      }
     },
     "output_type": "display_data"
    }
   ],
   "source": [
    "%matplotlib inline\n",
    "%config InlineBackend.figure_format = 'retina'\n",
    "\n",
    "import helper\n",
    "import numpy as np\n",
    "\n",
    "# Explore the dataset\n",
    "batch_id = 1\n",
    "sample_id = 5\n",
    "helper.display_stats(cifar10_dataset_folder_path, batch_id, sample_id)"
   ]
  },
  {
   "cell_type": "markdown",
   "metadata": {
    "deletable": true,
    "editable": true
   },
   "source": [
    "## Implement Preprocess Functions\n",
    "### Normalize\n",
    "In the cell below, implement the `normalize` function to take in image data, `x`, and return it as a normalized Numpy array. The values should be in the range of 0 to 1, inclusive.  The return object should be the same shape as `x`."
   ]
  },
  {
   "cell_type": "code",
   "execution_count": 3,
   "metadata": {
    "collapsed": false,
    "deletable": true,
    "editable": true
   },
   "outputs": [
    {
     "name": "stdout",
     "output_type": "stream",
     "text": [
      "Tests Passed\n"
     ]
    }
   ],
   "source": [
    "def normalize(x):\n",
    "    \"\"\"\n",
    "    Normalize a list of sample image data in the range of 0 to 1\n",
    "    : x: List of image data.  The image shape is (32, 32, 3)\n",
    "    : return: Numpy array of normalize data\n",
    "    \"\"\"\n",
    "    res = np.copy(x)\n",
    "    res = res / np.max(x)\n",
    "    return res\n",
    "\n",
    "\n",
    "\"\"\"\n",
    "DON'T MODIFY ANYTHING IN THIS CELL THAT IS BELOW THIS LINE\n",
    "\"\"\"\n",
    "tests.test_normalize(normalize)"
   ]
  },
  {
   "cell_type": "code",
   "execution_count": 4,
   "metadata": {
    "collapsed": false,
    "deletable": true,
    "editable": true
   },
   "outputs": [
    {
     "name": "stdout",
     "output_type": "stream",
     "text": [
      "[[[ 0.1  0.3  1. ]\n",
      "  [ 0.2  0.2  0.2]]]\n"
     ]
    }
   ],
   "source": [
    "# some small test to verify that the function works as expected\n",
    "test_data = np.array([\n",
    "    [\n",
    "        [1, 3, 10],\n",
    "        [2, 2, 2]\n",
    "    ]\n",
    "])\n",
    "print(normalize(test_data))"
   ]
  },
  {
   "cell_type": "markdown",
   "metadata": {
    "deletable": true,
    "editable": true
   },
   "source": [
    "### One-hot encode\n",
    "Just like the previous code cell, you'll be implementing a function for preprocessing.  This time, you'll implement the `one_hot_encode` function. The input, `x`, are a list of labels.  Implement the function to return the list of labels as One-Hot encoded Numpy array.  The possible values for labels are 0 to 9. The one-hot encoding function should return the same encoding for each value between each call to `one_hot_encode`.  Make sure to save the map of encodings outside the function.\n",
    "\n",
    "Hint: Don't reinvent the wheel."
   ]
  },
  {
   "cell_type": "code",
   "execution_count": 5,
   "metadata": {
    "collapsed": false,
    "deletable": true,
    "editable": true
   },
   "outputs": [
    {
     "name": "stdout",
     "output_type": "stream",
     "text": [
      "Tests Passed\n"
     ]
    }
   ],
   "source": [
    "def one_hot_encode(x):\n",
    "    \"\"\"\n",
    "    One hot encode a list of sample labels. Return a one-hot encoded vector for each label.\n",
    "    : x: List of sample Labels\n",
    "    : return: Numpy array of one-hot encoded labels\n",
    "    \"\"\"\n",
    "    # TODO: Implement Function\n",
    "    res = np.zeros((len(x), 10))\n",
    "    for idx, num in enumerate(x):\n",
    "        res[idx][num] = 1\n",
    "\n",
    "    return res\n",
    "\n",
    "\"\"\"\n",
    "DON'T MODIFY ANYTHING IN THIS CELL THAT IS BELOW THIS LINE\n",
    "\"\"\"\n",
    "tests.test_one_hot_encode(one_hot_encode)"
   ]
  },
  {
   "cell_type": "code",
   "execution_count": 6,
   "metadata": {
    "collapsed": false,
    "deletable": true,
    "editable": true
   },
   "outputs": [
    {
     "name": "stdout",
     "output_type": "stream",
     "text": [
      "[[ 0.  0.  1.  0.  0.  0.  0.  0.  0.  0.]\n",
      " [ 0.  0.  0.  0.  0.  0.  0.  0.  1.  0.]]\n"
     ]
    }
   ],
   "source": [
    "# some small test to verify that the function works as expected\n",
    "print(one_hot_encode([2, 8]))"
   ]
  },
  {
   "cell_type": "markdown",
   "metadata": {
    "deletable": true,
    "editable": true
   },
   "source": [
    "### Randomize Data\n",
    "As you saw from exploring the data above, the order of the samples are randomized.  It doesn't hurt to randomize it again, but you don't need to for this dataset."
   ]
  },
  {
   "cell_type": "markdown",
   "metadata": {
    "deletable": true,
    "editable": true
   },
   "source": [
    "## Preprocess all the data and save it\n",
    "Running the code cell below will preprocess all the CIFAR-10 data and save it to file. The code below also uses 10% of the training data for validation."
   ]
  },
  {
   "cell_type": "code",
   "execution_count": 7,
   "metadata": {
    "collapsed": false,
    "deletable": true,
    "editable": true
   },
   "outputs": [],
   "source": [
    "\"\"\"\n",
    "DON'T MODIFY ANYTHING IN THIS CELL\n",
    "\"\"\"\n",
    "# Preprocess Training, Validation, and Testing Data\n",
    "helper.preprocess_and_save_data(cifar10_dataset_folder_path, normalize, one_hot_encode)"
   ]
  },
  {
   "cell_type": "markdown",
   "metadata": {
    "deletable": true,
    "editable": true
   },
   "source": [
    "# Check Point\n",
    "This is your first checkpoint.  If you ever decide to come back to this notebook or have to restart the notebook, you can start from here.  The preprocessed data has been saved to disk."
   ]
  },
  {
   "cell_type": "code",
   "execution_count": 8,
   "metadata": {
    "collapsed": true,
    "deletable": true,
    "editable": true
   },
   "outputs": [],
   "source": [
    "\"\"\"\n",
    "DON'T MODIFY ANYTHING IN THIS CELL\n",
    "\"\"\"\n",
    "import pickle\n",
    "import problem_unittests as tests\n",
    "import helper\n",
    "\n",
    "# Load the Preprocessed Validation data\n",
    "valid_features, valid_labels = pickle.load(open('preprocess_validation.p', mode='rb'))"
   ]
  },
  {
   "cell_type": "markdown",
   "metadata": {
    "deletable": true,
    "editable": true
   },
   "source": [
    "## Build the network\n",
    "For the neural network, you'll build each layer into a function.  Most of the code you've seen has been outside of functions. To test your code more thoroughly, we require that you put each layer in a function.  This allows us to give you better feedback and test for simple mistakes using our unittests before you submit your project.\n",
    "\n",
    ">**Note:** If you're finding it hard to dedicate enough time for this course each week, we've provided a small shortcut to this part of the project. In the next couple of problems, you'll have the option to use classes from the [TensorFlow Layers](https://www.tensorflow.org/api_docs/python/tf/layers) or [TensorFlow Layers (contrib)](https://www.tensorflow.org/api_guides/python/contrib.layers) packages to build each layer, except the layers you build in the \"Convolutional and Max Pooling Layer\" section.  TF Layers is similar to Keras's and TFLearn's abstraction to layers, so it's easy to pickup.\n",
    "\n",
    ">However, if you would like to get the most out of this course, try to solve all the problems _without_ using anything from the TF Layers packages. You **can** still use classes from other packages that happen to have the same name as ones you find in TF Layers! For example, instead of using the TF Layers version of the `conv2d` class, [tf.layers.conv2d](https://www.tensorflow.org/api_docs/python/tf/layers/conv2d), you would want to use the TF Neural Network version of `conv2d`, [tf.nn.conv2d](https://www.tensorflow.org/api_docs/python/tf/nn/conv2d). \n",
    "\n",
    "Let's begin!\n",
    "\n",
    "### Input\n",
    "The neural network needs to read the image data, one-hot encoded labels, and dropout keep probability. Implement the following functions\n",
    "* Implement `neural_net_image_input`\n",
    " * Return a [TF Placeholder](https://www.tensorflow.org/api_docs/python/tf/placeholder)\n",
    " * Set the shape using `image_shape` with batch size set to `None`.\n",
    " * Name the TensorFlow placeholder \"x\" using the TensorFlow `name` parameter in the [TF Placeholder](https://www.tensorflow.org/api_docs/python/tf/placeholder).\n",
    "* Implement `neural_net_label_input`\n",
    " * Return a [TF Placeholder](https://www.tensorflow.org/api_docs/python/tf/placeholder)\n",
    " * Set the shape using `n_classes` with batch size set to `None`.\n",
    " * Name the TensorFlow placeholder \"y\" using the TensorFlow `name` parameter in the [TF Placeholder](https://www.tensorflow.org/api_docs/python/tf/placeholder).\n",
    "* Implement `neural_net_keep_prob_input`\n",
    " * Return a [TF Placeholder](https://www.tensorflow.org/api_docs/python/tf/placeholder) for dropout keep probability.\n",
    " * Name the TensorFlow placeholder \"keep_prob\" using the TensorFlow `name` parameter in the [TF Placeholder](https://www.tensorflow.org/api_docs/python/tf/placeholder).\n",
    "\n",
    "These names will be used at the end of the project to load your saved model.\n",
    "\n",
    "Note: `None` for shapes in TensorFlow allow for a dynamic size."
   ]
  },
  {
   "cell_type": "code",
   "execution_count": 9,
   "metadata": {
    "collapsed": false,
    "deletable": true,
    "editable": true
   },
   "outputs": [
    {
     "name": "stdout",
     "output_type": "stream",
     "text": [
      "Image Input Tests Passed.\n",
      "Label Input Tests Passed.\n",
      "Keep Prob Tests Passed.\n"
     ]
    }
   ],
   "source": [
    "import tensorflow as tf\n",
    "\n",
    "def add_batch_shape(s):\n",
    "    t = [e for e in s]\n",
    "    t.insert(0, None)\n",
    "    return tuple(t)\n",
    "\n",
    "\n",
    "def neural_net_image_input(image_shape):\n",
    "    \"\"\"\n",
    "    Return a Tensor for a batch of image input\n",
    "    : image_shape: Shape of the images\n",
    "    : return: Tensor for image input.\n",
    "    \"\"\"\n",
    "    return tf.placeholder(tf.float32, shape=add_batch_shape(image_shape), name='x')\n",
    "\n",
    "\n",
    "def neural_net_label_input(n_classes):\n",
    "    \"\"\"\n",
    "    Return a Tensor for a batch of label input\n",
    "    : n_classes: Number of classes\n",
    "    : return: Tensor for label input.\n",
    "    \"\"\"\n",
    "    return tf.placeholder(tf.float32, shape=(None, n_classes), name='y')\n",
    "\n",
    "\n",
    "def neural_net_keep_prob_input():\n",
    "    \"\"\"\n",
    "    Return a Tensor for keep probability\n",
    "    : return: Tensor for keep probability.\n",
    "    \"\"\"\n",
    "    return tf.placeholder(tf.float32, shape=(None), name='keep_prob')\n",
    "\n",
    "\n",
    "\"\"\"\n",
    "DON'T MODIFY ANYTHING IN THIS CELL THAT IS BELOW THIS LINE\n",
    "\"\"\"\n",
    "tf.reset_default_graph()\n",
    "tests.test_nn_image_inputs(neural_net_image_input)\n",
    "tests.test_nn_label_inputs(neural_net_label_input)\n",
    "tests.test_nn_keep_prob_inputs(neural_net_keep_prob_input)"
   ]
  },
  {
   "cell_type": "markdown",
   "metadata": {
    "deletable": true,
    "editable": true
   },
   "source": [
    "### Convolution and Max Pooling Layer\n",
    "Convolution layers have a lot of success with images. For this code cell, you should implement the function `conv2d_maxpool` to apply convolution then max pooling:\n",
    "* Create the weight and bias using `conv_ksize`, `conv_num_outputs` and the shape of `x_tensor`.\n",
    "* Apply a convolution to `x_tensor` using weight and `conv_strides`.\n",
    " * We recommend you use same padding, but you're welcome to use any padding.\n",
    "* Add bias\n",
    "* Add a nonlinear activation to the convolution.\n",
    "* Apply Max Pooling using `pool_ksize` and `pool_strides`.\n",
    " * We recommend you use same padding, but you're welcome to use any padding.\n",
    "\n",
    "**Note:** You **can't** use [TensorFlow Layers](https://www.tensorflow.org/api_docs/python/tf/layers) or [TensorFlow Layers (contrib)](https://www.tensorflow.org/api_guides/python/contrib.layers) for **this** layer, but you can still use TensorFlow's [Neural Network](https://www.tensorflow.org/api_docs/python/tf/nn) package. You may still use the shortcut option for all the **other** layers."
   ]
  },
  {
   "cell_type": "code",
   "execution_count": 10,
   "metadata": {
    "collapsed": false,
    "deletable": true,
    "editable": true
   },
   "outputs": [
    {
     "name": "stdout",
     "output_type": "stream",
     "text": [
      "Tests Passed\n"
     ]
    }
   ],
   "source": [
    "def conv2d_maxpool(x_tensor, conv_num_outputs, conv_ksize, conv_strides, pool_ksize, pool_strides):\n",
    "    \"\"\"\n",
    "    Apply convolution then max pooling to x_tensor\n",
    "    :param x_tensor: TensorFlow Tensor\n",
    "    :param conv_num_outputs: Number of outputs for the convolutional layer\n",
    "    :param conv_ksize: kernal size 2-D Tuple for the convolutional layer\n",
    "    :param conv_strides: Stride 2-D Tuple for convolution\n",
    "    :param pool_ksize: kernal size 2-D Tuple for pool\n",
    "    :param pool_strides: Stride 2-D Tuple for pool\n",
    "    : return: A tensor that represents convolution and max pooling of x_tensor\n",
    "    \"\"\"\n",
    "    \n",
    "    in_shape = x_tensor.get_shape().as_list()\n",
    "    \n",
    "    weights = tf.Variable(tf.truncated_normal((conv_ksize[0], conv_ksize[1], in_shape[3], conv_num_outputs)))\n",
    "    biases = tf.Variable(tf.zeros(conv_num_outputs))\n",
    "    strides = [1, conv_strides[0], conv_strides[1], 1]\n",
    "    padding = 'SAME'\n",
    "    \n",
    "    conv = tf.nn.conv2d(x_tensor, weights, strides, padding)    \n",
    "    pre_activation = tf.nn.bias_add(conv, biases)\n",
    "    conv_layer = tf.nn.relu(pre_activation)\n",
    "    \n",
    "    max_pool = tf.nn.max_pool(conv_layer, \n",
    "                              ksize=[1, pool_ksize[0], pool_ksize[0], 1], \n",
    "                              strides=[1, pool_strides[0], pool_strides[1], 1], \n",
    "                              padding=padding)\n",
    "    \n",
    "    return max_pool\n",
    "\n",
    "\n",
    "\"\"\"\n",
    "DON'T MODIFY ANYTHING IN THIS CELL THAT IS BELOW THIS LINE\n",
    "\"\"\"\n",
    "tests.test_con_pool(conv2d_maxpool)"
   ]
  },
  {
   "cell_type": "markdown",
   "metadata": {
    "deletable": true,
    "editable": true
   },
   "source": [
    "### Flatten Layer\n",
    "Implement the `flatten` function to change the dimension of `x_tensor` from a 4-D tensor to a 2-D tensor.  The output should be the shape (*Batch Size*, *Flattened Image Size*). Shortcut option: you can use classes from the [TensorFlow Layers](https://www.tensorflow.org/api_docs/python/tf/layers) or [TensorFlow Layers (contrib)](https://www.tensorflow.org/api_guides/python/contrib.layers) packages for this layer. For more of a challenge, only use other TensorFlow packages."
   ]
  },
  {
   "cell_type": "code",
   "execution_count": 11,
   "metadata": {
    "collapsed": false,
    "deletable": true,
    "editable": true
   },
   "outputs": [
    {
     "name": "stdout",
     "output_type": "stream",
     "text": [
      "Tests Passed\n"
     ]
    }
   ],
   "source": [
    "def flatten(x_tensor):\n",
    "    \"\"\"\n",
    "    Flatten x_tensor to (Batch Size, Flattened Image Size)\n",
    "    : x_tensor: A tensor of size (Batch Size, ...), where ... are the image dimensions.\n",
    "    : return: A tensor of size (Batch Size, Flattened Image Size).\n",
    "    \"\"\"\n",
    "    return tf.contrib.layers.flatten(x_tensor)\n",
    "\n",
    "\"\"\"\n",
    "DON'T MODIFY ANYTHING IN THIS CELL THAT IS BELOW THIS LINE\n",
    "\"\"\"\n",
    "tests.test_flatten(flatten)"
   ]
  },
  {
   "cell_type": "markdown",
   "metadata": {
    "deletable": true,
    "editable": true
   },
   "source": [
    "### Fully-Connected Layer\n",
    "Implement the `fully_conn` function to apply a fully connected layer to `x_tensor` with the shape (*Batch Size*, *num_outputs*). Shortcut option: you can use classes from the [TensorFlow Layers](https://www.tensorflow.org/api_docs/python/tf/layers) or [TensorFlow Layers (contrib)](https://www.tensorflow.org/api_guides/python/contrib.layers) packages for this layer. For more of a challenge, only use other TensorFlow packages."
   ]
  },
  {
   "cell_type": "code",
   "execution_count": 12,
   "metadata": {
    "collapsed": false,
    "deletable": true,
    "editable": true
   },
   "outputs": [
    {
     "name": "stdout",
     "output_type": "stream",
     "text": [
      "Tests Passed\n"
     ]
    }
   ],
   "source": [
    "def fully_conn(x_tensor, num_outputs):\n",
    "    \"\"\"\n",
    "    Apply a fully connected layer to x_tensor using weight and bias\n",
    "    : x_tensor: A 2-D tensor where the first dimension is batch size.\n",
    "    : num_outputs: The number of output that the new tensor should be.\n",
    "    : return: A 2-D tensor where the second dimension is num_outputs.\n",
    "    \"\"\"\n",
    "    return tf.layers.dense(x_tensor, num_outputs, activation=tf.nn.relu)\n",
    "\n",
    "\n",
    "\"\"\"\n",
    "DON'T MODIFY ANYTHING IN THIS CELL THAT IS BELOW THIS LINE\n",
    "\"\"\"\n",
    "tests.test_fully_conn(fully_conn)"
   ]
  },
  {
   "cell_type": "markdown",
   "metadata": {
    "deletable": true,
    "editable": true
   },
   "source": [
    "### Output Layer\n",
    "Implement the `output` function to apply a fully connected layer to `x_tensor` with the shape (*Batch Size*, *num_outputs*). Shortcut option: you can use classes from the [TensorFlow Layers](https://www.tensorflow.org/api_docs/python/tf/layers) or [TensorFlow Layers (contrib)](https://www.tensorflow.org/api_guides/python/contrib.layers) packages for this layer. For more of a challenge, only use other TensorFlow packages.\n",
    "\n",
    "**Note:** Activation, softmax, or cross entropy should **not** be applied to this."
   ]
  },
  {
   "cell_type": "code",
   "execution_count": 13,
   "metadata": {
    "collapsed": false,
    "deletable": true,
    "editable": true
   },
   "outputs": [
    {
     "name": "stdout",
     "output_type": "stream",
     "text": [
      "Tests Passed\n"
     ]
    }
   ],
   "source": [
    "def output(x_tensor, num_outputs):\n",
    "    \"\"\"\n",
    "    Apply a output layer to x_tensor using weight and bias\n",
    "    : x_tensor: A 2-D tensor where the first dimension is batch size.\n",
    "    : num_outputs: The number of output that the new tensor should be.\n",
    "    : return: A 2-D tensor where the second dimension is num_outputs.\n",
    "    \"\"\"\n",
    "    # TODO: Implement Function\n",
    "    return tf.layers.dense(x_tensor, num_outputs, activation=None)\n",
    "\n",
    "\n",
    "\"\"\"\n",
    "DON'T MODIFY ANYTHING IN THIS CELL THAT IS BELOW THIS LINE\n",
    "\"\"\"\n",
    "tests.test_output(output)"
   ]
  },
  {
   "cell_type": "markdown",
   "metadata": {
    "deletable": true,
    "editable": true
   },
   "source": [
    "### Create Convolutional Model\n",
    "Implement the function `conv_net` to create a convolutional neural network model. The function takes in a batch of images, `x`, and outputs logits.  Use the layers you created above to create this model:\n",
    "\n",
    "* Apply 1, 2, or 3 Convolution and Max Pool layers\n",
    "* Apply a Flatten Layer\n",
    "* Apply 1, 2, or 3 Fully Connected Layers\n",
    "* Apply an Output Layer\n",
    "* Return the output\n",
    "* Apply [TensorFlow's Dropout](https://www.tensorflow.org/api_docs/python/tf/nn/dropout) to one or more layers in the model using `keep_prob`. "
   ]
  },
  {
   "cell_type": "code",
   "execution_count": 14,
   "metadata": {
    "collapsed": false,
    "deletable": true,
    "editable": true
   },
   "outputs": [
    {
     "name": "stdout",
     "output_type": "stream",
     "text": [
      "Neural Network Built!\n"
     ]
    }
   ],
   "source": [
    "def conv_net(x, keep_prob):\n",
    "    \"\"\"\n",
    "    Create a convolutional neural network model\n",
    "    : x: Placeholder tensor that holds image data.\n",
    "    : keep_prob: Placeholder tensor that hold dropout keep probability.\n",
    "    : return: Tensor that represents logits\n",
    "    \"\"\"\n",
    "    # TODO: Apply 1, 2, or 3 Convolution and Max Pool layers\n",
    "    #    Play around with different number of outputs, kernel size and stride\n",
    "    # Function Definition from Above:\n",
    "    #    conv2d_maxpool(x_tensor, conv_num_outputs, conv_ksize, conv_strides, pool_ksize, pool_strides)\n",
    "    net = conv2d_maxpool(x, \n",
    "                         conv_num_outputs=64, \n",
    "                         conv_ksize=(5,5), \n",
    "                         conv_strides=(1,1), \n",
    "                         pool_ksize=(3,3), \n",
    "                         pool_strides=(2,2))\n",
    "\n",
    "    # Dropout\n",
    "    net = tf.layers.dropout(net, rate=keep_prob)\n",
    "\n",
    "    \n",
    "    net = conv2d_maxpool(x, \n",
    "                         conv_num_outputs=64, \n",
    "                         conv_ksize=(5,5), \n",
    "                         conv_strides=(1,1), \n",
    "                         pool_ksize=(3,3), \n",
    "                         pool_strides=(2,2))\n",
    "\n",
    "    # Dropout\n",
    "    net = tf.layers.dropout(net, rate=keep_prob)\n",
    "    \n",
    "    \n",
    "    # TODO: Apply a Flatten Layer\n",
    "    # Function Definition from Above:\n",
    "    #   flatten(x_tensor)\n",
    "    net = flatten(net)\n",
    "    \n",
    "\n",
    "    # TODO: Apply 1, 2, or 3 Fully Connected Layers\n",
    "    #    Play around with different number of outputs\n",
    "    # Function Definition from Above:\n",
    "    #   fully_conn(x_tensor, num_outputs)\n",
    "    net = fully_conn(net, 384)\n",
    "        \n",
    "    # Dropout\n",
    "    net = tf.layers.dropout(net, rate=keep_prob)\n",
    "\n",
    "    \n",
    "    net = fully_conn(net, 192)\n",
    "        \n",
    "    # Dropout\n",
    "    net = tf.layers.dropout(net, rate=keep_prob)\n",
    "    \n",
    "    \n",
    "    # TODO: Apply an Output Layer\n",
    "    #    Set this to the number of classes\n",
    "    # Function Definition from Above:\n",
    "    #   output(x_tensor, num_outputs)\n",
    "    net = output(net, 10)\n",
    "    \n",
    "    # TODO: return output\n",
    "    return net\n",
    "\n",
    "\n",
    "\"\"\"\n",
    "DON'T MODIFY ANYTHING IN THIS CELL THAT IS BELOW THIS LINE\n",
    "\"\"\"\n",
    "\n",
    "##############################\n",
    "## Build the Neural Network ##\n",
    "##############################\n",
    "\n",
    "# Remove previous weights, bias, inputs, etc..\n",
    "tf.reset_default_graph()\n",
    "\n",
    "# Inputs\n",
    "x = neural_net_image_input((32, 32, 3))\n",
    "y = neural_net_label_input(10)\n",
    "keep_prob = neural_net_keep_prob_input()\n",
    "\n",
    "# Model\n",
    "logits = conv_net(x, keep_prob)\n",
    "\n",
    "# Name logits Tensor, so that is can be loaded from disk after training\n",
    "logits = tf.identity(logits, name='logits')\n",
    "\n",
    "# Loss and Optimizer\n",
    "cost = tf.reduce_mean(tf.nn.softmax_cross_entropy_with_logits(logits=logits, labels=y))\n",
    "optimizer = tf.train.AdamOptimizer().minimize(cost)\n",
    "\n",
    "# Accuracy\n",
    "correct_pred = tf.equal(tf.argmax(logits, 1), tf.argmax(y, 1))\n",
    "accuracy = tf.reduce_mean(tf.cast(correct_pred, tf.float32), name='accuracy')\n",
    "\n",
    "tests.test_conv_net(conv_net)"
   ]
  },
  {
   "cell_type": "markdown",
   "metadata": {
    "deletable": true,
    "editable": true
   },
   "source": [
    "## Train the Neural Network\n",
    "### Single Optimization\n",
    "Implement the function `train_neural_network` to do a single optimization.  The optimization should use `optimizer` to optimize in `session` with a `feed_dict` of the following:\n",
    "* `x` for image input\n",
    "* `y` for labels\n",
    "* `keep_prob` for keep probability for dropout\n",
    "\n",
    "This function will be called for each batch, so `tf.global_variables_initializer()` has already been called.\n",
    "\n",
    "Note: Nothing needs to be returned. This function is only optimizing the neural network."
   ]
  },
  {
   "cell_type": "code",
   "execution_count": 15,
   "metadata": {
    "collapsed": false,
    "deletable": true,
    "editable": true
   },
   "outputs": [
    {
     "name": "stdout",
     "output_type": "stream",
     "text": [
      "Tests Passed\n"
     ]
    }
   ],
   "source": [
    "def train_neural_network(session, optimizer, keep_probability, feature_batch, label_batch):\n",
    "    \"\"\"\n",
    "    Optimize the session on a batch of images and labels\n",
    "    : session: Current TensorFlow session\n",
    "    : optimizer: TensorFlow optimizer function\n",
    "    : keep_probability: keep probability\n",
    "    : feature_batch: Batch of Numpy image data\n",
    "    : label_batch: Batch of Numpy label data\n",
    "    \"\"\"\n",
    "    # TODO: Implement Function\n",
    "    session.run(optimizer, feed_dict={keep_prob: keep_probability, x: feature_batch, y: label_batch})\n",
    "\n",
    "\n",
    "\"\"\"\n",
    "DON'T MODIFY ANYTHING IN THIS CELL THAT IS BELOW THIS LINE\n",
    "\"\"\"\n",
    "tests.test_train_nn(train_neural_network)"
   ]
  },
  {
   "cell_type": "markdown",
   "metadata": {
    "deletable": true,
    "editable": true
   },
   "source": [
    "### Show Stats\n",
    "Implement the function `print_stats` to print loss and validation accuracy.  Use the global variables `valid_features` and `valid_labels` to calculate validation accuracy.  Use a keep probability of `1.0` to calculate the loss and validation accuracy."
   ]
  },
  {
   "cell_type": "code",
   "execution_count": 16,
   "metadata": {
    "collapsed": false,
    "deletable": true,
    "editable": true
   },
   "outputs": [],
   "source": [
    "def print_stats(session, feature_batch, label_batch, cost, accuracy):\n",
    "    \"\"\"\n",
    "    Print information about loss and validation accuracy\n",
    "    : session: Current TensorFlow session\n",
    "    : feature_batch: Batch of Numpy image data\n",
    "    : label_batch: Batch of Numpy label data\n",
    "    : cost: TensorFlow cost function\n",
    "    : accuracy: TensorFlow accuracy function\n",
    "    \"\"\"\n",
    "    loss = session.run(cost, feed_dict={keep_prob: 1.0, x: feature_batch, y: label_batch})\n",
    "    acc = session.run(accuracy, feed_dict={keep_prob: 1.0, x: valid_features, y: valid_labels})\n",
    "\n",
    "    print(\"Loss: %2.3f   -   Acc: %2.2f\" % (loss, acc))"
   ]
  },
  {
   "cell_type": "markdown",
   "metadata": {
    "deletable": true,
    "editable": true
   },
   "source": [
    "### Hyperparameters\n",
    "Tune the following parameters:\n",
    "* Set `epochs` to the number of iterations until the network stops learning or start overfitting\n",
    "* Set `batch_size` to the highest number that your machine has memory for.  Most people set them to common sizes of memory:\n",
    " * 64\n",
    " * 128\n",
    " * 256\n",
    " * ...\n",
    "* Set `keep_probability` to the probability of keeping a node using dropout"
   ]
  },
  {
   "cell_type": "code",
   "execution_count": 17,
   "metadata": {
    "collapsed": true,
    "deletable": true,
    "editable": true
   },
   "outputs": [],
   "source": [
    "# TODO: Tune Parameters\n",
    "epochs = 50\n",
    "batch_size = 256\n",
    "keep_probability = .5"
   ]
  },
  {
   "cell_type": "markdown",
   "metadata": {
    "deletable": true,
    "editable": true
   },
   "source": [
    "### Train on a Single CIFAR-10 Batch\n",
    "Instead of training the neural network on all the CIFAR-10 batches of data, let's use a single batch. This should save time while you iterate on the model to get a better accuracy.  Once the final validation accuracy is 50% or greater, run the model on all the data in the next section."
   ]
  },
  {
   "cell_type": "code",
   "execution_count": 18,
   "metadata": {
    "collapsed": false,
    "deletable": true,
    "editable": true
   },
   "outputs": [
    {
     "name": "stdout",
     "output_type": "stream",
     "text": [
      "Checking the Training on a Single Batch...\n",
      "Epoch  1, CIFAR-10 Batch 1:  Loss: 2.372   -   Acc: 0.22\n",
      "Epoch  2, CIFAR-10 Batch 1:  Loss: 1.663   -   Acc: 0.37\n",
      "Epoch  3, CIFAR-10 Batch 1:  Loss: 1.383   -   Acc: 0.42\n",
      "Epoch  4, CIFAR-10 Batch 1:  Loss: 1.146   -   Acc: 0.45\n",
      "Epoch  5, CIFAR-10 Batch 1:  Loss: 0.927   -   Acc: 0.46\n",
      "Epoch  6, CIFAR-10 Batch 1:  Loss: 0.767   -   Acc: 0.49\n",
      "Epoch  7, CIFAR-10 Batch 1:  Loss: 0.650   -   Acc: 0.50\n",
      "Epoch  8, CIFAR-10 Batch 1:  Loss: 0.552   -   Acc: 0.50\n",
      "Epoch  9, CIFAR-10 Batch 1:  Loss: 0.500   -   Acc: 0.47\n",
      "Epoch 10, CIFAR-10 Batch 1:  Loss: 0.408   -   Acc: 0.49\n",
      "Epoch 11, CIFAR-10 Batch 1:  Loss: 0.350   -   Acc: 0.53\n",
      "Epoch 12, CIFAR-10 Batch 1:  Loss: 0.310   -   Acc: 0.50\n",
      "Epoch 13, CIFAR-10 Batch 1:  Loss: 0.283   -   Acc: 0.50\n",
      "Epoch 14, CIFAR-10 Batch 1:  Loss: 0.274   -   Acc: 0.50\n",
      "Epoch 15, CIFAR-10 Batch 1:  Loss: 0.281   -   Acc: 0.50\n",
      "Epoch 16, CIFAR-10 Batch 1:  Loss: 0.230   -   Acc: 0.54\n",
      "Epoch 17, CIFAR-10 Batch 1:  Loss: 0.234   -   Acc: 0.53\n",
      "Epoch 18, CIFAR-10 Batch 1:  Loss: 0.220   -   Acc: 0.51\n",
      "Epoch 19, CIFAR-10 Batch 1:  Loss: 0.145   -   Acc: 0.53\n",
      "Epoch 20, CIFAR-10 Batch 1:  Loss: 0.170   -   Acc: 0.48\n",
      "Epoch 21, CIFAR-10 Batch 1:  Loss: 0.116   -   Acc: 0.52\n",
      "Epoch 22, CIFAR-10 Batch 1:  Loss: 0.091   -   Acc: 0.57\n",
      "Epoch 23, CIFAR-10 Batch 1:  Loss: 0.092   -   Acc: 0.56\n",
      "Epoch 24, CIFAR-10 Batch 1:  Loss: 0.142   -   Acc: 0.52\n",
      "Epoch 25, CIFAR-10 Batch 1:  Loss: 0.109   -   Acc: 0.54\n",
      "Epoch 26, CIFAR-10 Batch 1:  Loss: 0.093   -   Acc: 0.55\n",
      "Epoch 27, CIFAR-10 Batch 1:  Loss: 0.087   -   Acc: 0.55\n",
      "Epoch 28, CIFAR-10 Batch 1:  Loss: 0.098   -   Acc: 0.54\n",
      "Epoch 29, CIFAR-10 Batch 1:  Loss: 0.206   -   Acc: 0.48\n",
      "Epoch 30, CIFAR-10 Batch 1:  Loss: 0.059   -   Acc: 0.55\n",
      "Epoch 31, CIFAR-10 Batch 1:  Loss: 0.046   -   Acc: 0.55\n",
      "Epoch 32, CIFAR-10 Batch 1:  Loss: 0.048   -   Acc: 0.55\n",
      "Epoch 33, CIFAR-10 Batch 1:  Loss: 0.080   -   Acc: 0.50\n",
      "Epoch 34, CIFAR-10 Batch 1:  Loss: 0.142   -   Acc: 0.49\n",
      "Epoch 35, CIFAR-10 Batch 1:  Loss: 0.060   -   Acc: 0.56\n",
      "Epoch 36, CIFAR-10 Batch 1:  Loss: 0.045   -   Acc: 0.53\n",
      "Epoch 37, CIFAR-10 Batch 1:  Loss: 0.037   -   Acc: 0.54\n",
      "Epoch 38, CIFAR-10 Batch 1:  Loss: 0.040   -   Acc: 0.52\n",
      "Epoch 39, CIFAR-10 Batch 1:  Loss: 0.054   -   Acc: 0.51\n",
      "Epoch 40, CIFAR-10 Batch 1:  Loss: 0.104   -   Acc: 0.48\n",
      "Epoch 41, CIFAR-10 Batch 1:  Loss: 0.120   -   Acc: 0.47\n",
      "Epoch 42, CIFAR-10 Batch 1:  Loss: 0.049   -   Acc: 0.54\n",
      "Epoch 43, CIFAR-10 Batch 1:  Loss: 0.043   -   Acc: 0.53\n",
      "Epoch 44, CIFAR-10 Batch 1:  Loss: 0.047   -   Acc: 0.53\n",
      "Epoch 45, CIFAR-10 Batch 1:  Loss: 0.018   -   Acc: 0.54\n",
      "Epoch 46, CIFAR-10 Batch 1:  Loss: 0.021   -   Acc: 0.55\n",
      "Epoch 47, CIFAR-10 Batch 1:  Loss: 0.035   -   Acc: 0.52\n",
      "Epoch 48, CIFAR-10 Batch 1:  Loss: 0.016   -   Acc: 0.54\n",
      "Epoch 49, CIFAR-10 Batch 1:  Loss: 0.020   -   Acc: 0.52\n",
      "Epoch 50, CIFAR-10 Batch 1:  Loss: 0.051   -   Acc: 0.50\n"
     ]
    }
   ],
   "source": [
    "\"\"\"\n",
    "DON'T MODIFY ANYTHING IN THIS CELL\n",
    "\"\"\"\n",
    "print('Checking the Training on a Single Batch...')\n",
    "with tf.Session() as sess:\n",
    "    # Initializing the variables\n",
    "    sess.run(tf.global_variables_initializer())\n",
    "    \n",
    "    # Training cycle\n",
    "    for epoch in range(epochs):\n",
    "        batch_i = 1\n",
    "        for batch_features, batch_labels in helper.load_preprocess_training_batch(batch_i, batch_size):\n",
    "            train_neural_network(sess, optimizer, keep_probability, batch_features, batch_labels)\n",
    "        print('Epoch {:>2}, CIFAR-10 Batch {}:  '.format(epoch + 1, batch_i), end='')\n",
    "        print_stats(sess, batch_features, batch_labels, cost, accuracy)"
   ]
  },
  {
   "cell_type": "markdown",
   "metadata": {
    "deletable": true,
    "editable": true
   },
   "source": [
    "### Fully Train the Model\n",
    "Now that you got a good accuracy with a single CIFAR-10 batch, try it with all five batches."
   ]
  },
  {
   "cell_type": "code",
   "execution_count": 19,
   "metadata": {
    "collapsed": false,
    "deletable": true,
    "editable": true
   },
   "outputs": [
    {
     "name": "stdout",
     "output_type": "stream",
     "text": [
      "Training...\n",
      "Epoch  1, CIFAR-10 Batch 1:  Loss: 2.633   -   Acc: 0.29\n",
      "Epoch  1, CIFAR-10 Batch 2:  Loss: 1.710   -   Acc: 0.37\n",
      "Epoch  1, CIFAR-10 Batch 3:  Loss: 1.418   -   Acc: 0.42\n",
      "Epoch  1, CIFAR-10 Batch 4:  Loss: 1.423   -   Acc: 0.41\n",
      "Epoch  1, CIFAR-10 Batch 5:  Loss: 1.268   -   Acc: 0.50\n",
      "Epoch  2, CIFAR-10 Batch 1:  Loss: 1.539   -   Acc: 0.46\n",
      "Epoch  2, CIFAR-10 Batch 2:  Loss: 1.240   -   Acc: 0.44\n",
      "Epoch  2, CIFAR-10 Batch 3:  Loss: 0.849   -   Acc: 0.53\n",
      "Epoch  2, CIFAR-10 Batch 4:  Loss: 1.014   -   Acc: 0.53\n",
      "Epoch  2, CIFAR-10 Batch 5:  Loss: 0.840   -   Acc: 0.57\n",
      "Epoch  3, CIFAR-10 Batch 1:  Loss: 1.144   -   Acc: 0.51\n",
      "Epoch  3, CIFAR-10 Batch 2:  Loss: 0.853   -   Acc: 0.51\n",
      "Epoch  3, CIFAR-10 Batch 3:  Loss: 0.600   -   Acc: 0.53\n",
      "Epoch  3, CIFAR-10 Batch 4:  Loss: 0.830   -   Acc: 0.53\n",
      "Epoch  3, CIFAR-10 Batch 5:  Loss: 0.677   -   Acc: 0.53\n",
      "Epoch  4, CIFAR-10 Batch 1:  Loss: 0.902   -   Acc: 0.58\n",
      "Epoch  4, CIFAR-10 Batch 2:  Loss: 0.673   -   Acc: 0.54\n",
      "Epoch  4, CIFAR-10 Batch 3:  Loss: 0.425   -   Acc: 0.58\n",
      "Epoch  4, CIFAR-10 Batch 4:  Loss: 0.721   -   Acc: 0.54\n",
      "Epoch  4, CIFAR-10 Batch 5:  Loss: 0.590   -   Acc: 0.57\n",
      "Epoch  5, CIFAR-10 Batch 1:  Loss: 0.756   -   Acc: 0.58\n",
      "Epoch  5, CIFAR-10 Batch 2:  Loss: 0.455   -   Acc: 0.58\n",
      "Epoch  5, CIFAR-10 Batch 3:  Loss: 0.329   -   Acc: 0.61\n",
      "Epoch  5, CIFAR-10 Batch 4:  Loss: 0.471   -   Acc: 0.59\n",
      "Epoch  5, CIFAR-10 Batch 5:  Loss: 0.440   -   Acc: 0.61\n",
      "Epoch  6, CIFAR-10 Batch 1:  Loss: 0.606   -   Acc: 0.58\n",
      "Epoch  6, CIFAR-10 Batch 2:  Loss: 0.356   -   Acc: 0.61\n",
      "Epoch  6, CIFAR-10 Batch 3:  Loss: 0.311   -   Acc: 0.59\n",
      "Epoch  6, CIFAR-10 Batch 4:  Loss: 0.375   -   Acc: 0.62\n",
      "Epoch  6, CIFAR-10 Batch 5:  Loss: 0.354   -   Acc: 0.62\n",
      "Epoch  7, CIFAR-10 Batch 1:  Loss: 0.500   -   Acc: 0.58\n",
      "Epoch  7, CIFAR-10 Batch 2:  Loss: 0.284   -   Acc: 0.62\n",
      "Epoch  7, CIFAR-10 Batch 3:  Loss: 0.267   -   Acc: 0.62\n",
      "Epoch  7, CIFAR-10 Batch 4:  Loss: 0.333   -   Acc: 0.60\n",
      "Epoch  7, CIFAR-10 Batch 5:  Loss: 0.313   -   Acc: 0.62\n",
      "Epoch  8, CIFAR-10 Batch 1:  Loss: 0.369   -   Acc: 0.61\n",
      "Epoch  8, CIFAR-10 Batch 2:  Loss: 0.269   -   Acc: 0.60\n",
      "Epoch  8, CIFAR-10 Batch 3:  Loss: 0.223   -   Acc: 0.61\n",
      "Epoch  8, CIFAR-10 Batch 4:  Loss: 0.275   -   Acc: 0.61\n",
      "Epoch  8, CIFAR-10 Batch 5:  Loss: 0.286   -   Acc: 0.61\n",
      "Epoch  9, CIFAR-10 Batch 1:  Loss: 0.296   -   Acc: 0.62\n",
      "Epoch  9, CIFAR-10 Batch 2:  Loss: 0.218   -   Acc: 0.62\n",
      "Epoch  9, CIFAR-10 Batch 3:  Loss: 0.234   -   Acc: 0.57\n",
      "Epoch  9, CIFAR-10 Batch 4:  Loss: 0.258   -   Acc: 0.62\n",
      "Epoch  9, CIFAR-10 Batch 5:  Loss: 0.258   -   Acc: 0.60\n",
      "Epoch 10, CIFAR-10 Batch 1:  Loss: 0.274   -   Acc: 0.60\n",
      "Epoch 10, CIFAR-10 Batch 2:  Loss: 0.234   -   Acc: 0.62\n",
      "Epoch 10, CIFAR-10 Batch 3:  Loss: 0.166   -   Acc: 0.60\n",
      "Epoch 10, CIFAR-10 Batch 4:  Loss: 0.213   -   Acc: 0.62\n",
      "Epoch 10, CIFAR-10 Batch 5:  Loss: 0.221   -   Acc: 0.61\n",
      "Epoch 11, CIFAR-10 Batch 1:  Loss: 0.218   -   Acc: 0.60\n",
      "Epoch 11, CIFAR-10 Batch 2:  Loss: 0.169   -   Acc: 0.65\n",
      "Epoch 11, CIFAR-10 Batch 3:  Loss: 0.152   -   Acc: 0.62\n",
      "Epoch 11, CIFAR-10 Batch 4:  Loss: 0.178   -   Acc: 0.62\n",
      "Epoch 11, CIFAR-10 Batch 5:  Loss: 0.173   -   Acc: 0.61\n",
      "Epoch 12, CIFAR-10 Batch 1:  Loss: 0.181   -   Acc: 0.62\n",
      "Epoch 12, CIFAR-10 Batch 2:  Loss: 0.150   -   Acc: 0.63\n",
      "Epoch 12, CIFAR-10 Batch 3:  Loss: 0.128   -   Acc: 0.61\n",
      "Epoch 12, CIFAR-10 Batch 4:  Loss: 0.136   -   Acc: 0.63\n",
      "Epoch 12, CIFAR-10 Batch 5:  Loss: 0.139   -   Acc: 0.62\n",
      "Epoch 13, CIFAR-10 Batch 1:  Loss: 0.145   -   Acc: 0.62\n",
      "Epoch 13, CIFAR-10 Batch 2:  Loss: 0.126   -   Acc: 0.64\n",
      "Epoch 13, CIFAR-10 Batch 3:  Loss: 0.109   -   Acc: 0.60\n",
      "Epoch 13, CIFAR-10 Batch 4:  Loss: 0.122   -   Acc: 0.61\n",
      "Epoch 13, CIFAR-10 Batch 5:  Loss: 0.119   -   Acc: 0.63\n",
      "Epoch 14, CIFAR-10 Batch 1:  Loss: 0.151   -   Acc: 0.61\n",
      "Epoch 14, CIFAR-10 Batch 2:  Loss: 0.098   -   Acc: 0.64\n",
      "Epoch 14, CIFAR-10 Batch 3:  Loss: 0.105   -   Acc: 0.59\n",
      "Epoch 14, CIFAR-10 Batch 4:  Loss: 0.133   -   Acc: 0.60\n",
      "Epoch 14, CIFAR-10 Batch 5:  Loss: 0.101   -   Acc: 0.63\n",
      "Epoch 15, CIFAR-10 Batch 1:  Loss: 0.177   -   Acc: 0.60\n",
      "Epoch 15, CIFAR-10 Batch 2:  Loss: 0.143   -   Acc: 0.59\n",
      "Epoch 15, CIFAR-10 Batch 3:  Loss: 0.131   -   Acc: 0.60\n",
      "Epoch 15, CIFAR-10 Batch 4:  Loss: 0.201   -   Acc: 0.58\n",
      "Epoch 15, CIFAR-10 Batch 5:  Loss: 0.131   -   Acc: 0.59\n",
      "Epoch 16, CIFAR-10 Batch 1:  Loss: 0.114   -   Acc: 0.62\n",
      "Epoch 16, CIFAR-10 Batch 2:  Loss: 0.104   -   Acc: 0.60\n",
      "Epoch 16, CIFAR-10 Batch 3:  Loss: 0.086   -   Acc: 0.58\n",
      "Epoch 16, CIFAR-10 Batch 4:  Loss: 0.189   -   Acc: 0.57\n",
      "Epoch 16, CIFAR-10 Batch 5:  Loss: 0.099   -   Acc: 0.62\n",
      "Epoch 17, CIFAR-10 Batch 1:  Loss: 0.137   -   Acc: 0.60\n",
      "Epoch 17, CIFAR-10 Batch 2:  Loss: 0.075   -   Acc: 0.62\n",
      "Epoch 17, CIFAR-10 Batch 3:  Loss: 0.094   -   Acc: 0.55\n",
      "Epoch 17, CIFAR-10 Batch 4:  Loss: 0.133   -   Acc: 0.59\n",
      "Epoch 17, CIFAR-10 Batch 5:  Loss: 0.107   -   Acc: 0.61\n",
      "Epoch 18, CIFAR-10 Batch 1:  Loss: 0.122   -   Acc: 0.61\n",
      "Epoch 18, CIFAR-10 Batch 2:  Loss: 0.092   -   Acc: 0.61\n",
      "Epoch 18, CIFAR-10 Batch 3:  Loss: 0.045   -   Acc: 0.61\n",
      "Epoch 18, CIFAR-10 Batch 4:  Loss: 0.101   -   Acc: 0.61\n",
      "Epoch 18, CIFAR-10 Batch 5:  Loss: 0.111   -   Acc: 0.61\n",
      "Epoch 19, CIFAR-10 Batch 1:  Loss: 0.173   -   Acc: 0.58\n",
      "Epoch 19, CIFAR-10 Batch 2:  Loss: 0.099   -   Acc: 0.61\n",
      "Epoch 19, CIFAR-10 Batch 3:  Loss: 0.042   -   Acc: 0.62\n",
      "Epoch 19, CIFAR-10 Batch 4:  Loss: 0.089   -   Acc: 0.60\n",
      "Epoch 19, CIFAR-10 Batch 5:  Loss: 0.087   -   Acc: 0.62\n",
      "Epoch 20, CIFAR-10 Batch 1:  Loss: 0.092   -   Acc: 0.61\n",
      "Epoch 20, CIFAR-10 Batch 2:  Loss: 0.096   -   Acc: 0.59\n",
      "Epoch 20, CIFAR-10 Batch 3:  Loss: 0.035   -   Acc: 0.62\n",
      "Epoch 20, CIFAR-10 Batch 4:  Loss: 0.128   -   Acc: 0.57\n",
      "Epoch 20, CIFAR-10 Batch 5:  Loss: 0.109   -   Acc: 0.59\n",
      "Epoch 21, CIFAR-10 Batch 1:  Loss: 0.078   -   Acc: 0.62\n",
      "Epoch 21, CIFAR-10 Batch 2:  Loss: 0.075   -   Acc: 0.59\n",
      "Epoch 21, CIFAR-10 Batch 3:  Loss: 0.039   -   Acc: 0.62\n",
      "Epoch 21, CIFAR-10 Batch 4:  Loss: 0.060   -   Acc: 0.62\n",
      "Epoch 21, CIFAR-10 Batch 5:  Loss: 0.085   -   Acc: 0.58\n",
      "Epoch 22, CIFAR-10 Batch 1:  Loss: 0.054   -   Acc: 0.62\n",
      "Epoch 22, CIFAR-10 Batch 2:  Loss: 0.042   -   Acc: 0.61\n",
      "Epoch 22, CIFAR-10 Batch 3:  Loss: 0.032   -   Acc: 0.62\n",
      "Epoch 22, CIFAR-10 Batch 4:  Loss: 0.046   -   Acc: 0.59\n",
      "Epoch 22, CIFAR-10 Batch 5:  Loss: 0.041   -   Acc: 0.62\n",
      "Epoch 23, CIFAR-10 Batch 1:  Loss: 0.051   -   Acc: 0.62\n",
      "Epoch 23, CIFAR-10 Batch 2:  Loss: 0.077   -   Acc: 0.56\n",
      "Epoch 23, CIFAR-10 Batch 3:  Loss: 0.045   -   Acc: 0.60\n",
      "Epoch 23, CIFAR-10 Batch 4:  Loss: 0.031   -   Acc: 0.62\n",
      "Epoch 23, CIFAR-10 Batch 5:  Loss: 0.032   -   Acc: 0.63\n",
      "Epoch 24, CIFAR-10 Batch 1:  Loss: 0.076   -   Acc: 0.60\n",
      "Epoch 24, CIFAR-10 Batch 2:  Loss: 0.053   -   Acc: 0.58\n",
      "Epoch 24, CIFAR-10 Batch 3:  Loss: 0.029   -   Acc: 0.62\n",
      "Epoch 24, CIFAR-10 Batch 4:  Loss: 0.031   -   Acc: 0.62\n",
      "Epoch 24, CIFAR-10 Batch 5:  Loss: 0.027   -   Acc: 0.62\n",
      "Epoch 25, CIFAR-10 Batch 1:  Loss: 0.125   -   Acc: 0.56\n",
      "Epoch 25, CIFAR-10 Batch 2:  Loss: 0.051   -   Acc: 0.58\n",
      "Epoch 25, CIFAR-10 Batch 3:  Loss: 0.032   -   Acc: 0.59\n",
      "Epoch 25, CIFAR-10 Batch 4:  Loss: 0.036   -   Acc: 0.59\n",
      "Epoch 25, CIFAR-10 Batch 5:  Loss: 0.052   -   Acc: 0.62\n",
      "Epoch 26, CIFAR-10 Batch 1:  Loss: 0.064   -   Acc: 0.59\n",
      "Epoch 26, CIFAR-10 Batch 2:  Loss: 0.067   -   Acc: 0.57\n",
      "Epoch 26, CIFAR-10 Batch 3:  Loss: 0.033   -   Acc: 0.60\n",
      "Epoch 26, CIFAR-10 Batch 4:  Loss: 0.031   -   Acc: 0.62\n",
      "Epoch 26, CIFAR-10 Batch 5:  Loss: 0.064   -   Acc: 0.61\n",
      "Epoch 27, CIFAR-10 Batch 1:  Loss: 0.043   -   Acc: 0.61\n",
      "Epoch 27, CIFAR-10 Batch 2:  Loss: 0.028   -   Acc: 0.58\n",
      "Epoch 27, CIFAR-10 Batch 3:  Loss: 0.052   -   Acc: 0.59\n",
      "Epoch 27, CIFAR-10 Batch 4:  Loss: 0.036   -   Acc: 0.62\n",
      "Epoch 27, CIFAR-10 Batch 5:  Loss: 0.041   -   Acc: 0.61\n",
      "Epoch 28, CIFAR-10 Batch 1:  Loss: 0.056   -   Acc: 0.59\n",
      "Epoch 28, CIFAR-10 Batch 2:  Loss: 0.051   -   Acc: 0.58\n",
      "Epoch 28, CIFAR-10 Batch 3:  Loss: 0.024   -   Acc: 0.60\n",
      "Epoch 28, CIFAR-10 Batch 4:  Loss: 0.025   -   Acc: 0.62\n",
      "Epoch 28, CIFAR-10 Batch 5:  Loss: 0.026   -   Acc: 0.62\n",
      "Epoch 29, CIFAR-10 Batch 1:  Loss: 0.041   -   Acc: 0.62\n",
      "Epoch 29, CIFAR-10 Batch 2:  Loss: 0.025   -   Acc: 0.58\n",
      "Epoch 29, CIFAR-10 Batch 3:  Loss: 0.030   -   Acc: 0.60\n",
      "Epoch 29, CIFAR-10 Batch 4:  Loss: 0.033   -   Acc: 0.61\n",
      "Epoch 29, CIFAR-10 Batch 5:  Loss: 0.046   -   Acc: 0.57\n",
      "Epoch 30, CIFAR-10 Batch 1:  Loss: 0.056   -   Acc: 0.60\n",
      "Epoch 30, CIFAR-10 Batch 2:  Loss: 0.036   -   Acc: 0.58\n",
      "Epoch 30, CIFAR-10 Batch 3:  Loss: 0.028   -   Acc: 0.62\n",
      "Epoch 30, CIFAR-10 Batch 4:  Loss: 0.037   -   Acc: 0.61\n",
      "Epoch 30, CIFAR-10 Batch 5:  Loss: 0.022   -   Acc: 0.62\n",
      "Epoch 31, CIFAR-10 Batch 1:  Loss: 0.056   -   Acc: 0.62\n",
      "Epoch 31, CIFAR-10 Batch 2:  Loss: 0.023   -   Acc: 0.60\n",
      "Epoch 31, CIFAR-10 Batch 3:  Loss: 0.019   -   Acc: 0.62\n",
      "Epoch 31, CIFAR-10 Batch 4:  Loss: 0.032   -   Acc: 0.61\n",
      "Epoch 31, CIFAR-10 Batch 5:  Loss: 0.045   -   Acc: 0.61\n",
      "Epoch 32, CIFAR-10 Batch 1:  Loss: 0.028   -   Acc: 0.61\n",
      "Epoch 32, CIFAR-10 Batch 2:  Loss: 0.014   -   Acc: 0.61\n",
      "Epoch 32, CIFAR-10 Batch 3:  Loss: 0.023   -   Acc: 0.61\n",
      "Epoch 32, CIFAR-10 Batch 4:  Loss: 0.018   -   Acc: 0.60\n",
      "Epoch 32, CIFAR-10 Batch 5:  Loss: 0.032   -   Acc: 0.60\n",
      "Epoch 33, CIFAR-10 Batch 1:  Loss: 0.027   -   Acc: 0.60\n",
      "Epoch 33, CIFAR-10 Batch 2:  Loss: 0.021   -   Acc: 0.61\n",
      "Epoch 33, CIFAR-10 Batch 3:  Loss: 0.023   -   Acc: 0.59\n",
      "Epoch 33, CIFAR-10 Batch 4:  Loss: 0.015   -   Acc: 0.62\n",
      "Epoch 33, CIFAR-10 Batch 5:  Loss: 0.026   -   Acc: 0.59\n",
      "Epoch 34, CIFAR-10 Batch 1:  Loss: 0.049   -   Acc: 0.59\n",
      "Epoch 34, CIFAR-10 Batch 2:  Loss: 0.018   -   Acc: 0.62\n",
      "Epoch 34, CIFAR-10 Batch 3:  Loss: 0.025   -   Acc: 0.60\n",
      "Epoch 34, CIFAR-10 Batch 4:  Loss: 0.028   -   Acc: 0.62\n",
      "Epoch 34, CIFAR-10 Batch 5:  Loss: 0.041   -   Acc: 0.60\n",
      "Epoch 35, CIFAR-10 Batch 1:  Loss: 0.067   -   Acc: 0.58\n",
      "Epoch 35, CIFAR-10 Batch 2:  Loss: 0.018   -   Acc: 0.62\n",
      "Epoch 35, CIFAR-10 Batch 3:  Loss: 0.023   -   Acc: 0.60\n",
      "Epoch 35, CIFAR-10 Batch 4:  Loss: 0.025   -   Acc: 0.62\n",
      "Epoch 35, CIFAR-10 Batch 5:  Loss: 0.015   -   Acc: 0.61\n",
      "Epoch 36, CIFAR-10 Batch 1:  Loss: 0.040   -   Acc: 0.62\n",
      "Epoch 36, CIFAR-10 Batch 2:  Loss: 0.039   -   Acc: 0.60\n",
      "Epoch 36, CIFAR-10 Batch 3:  Loss: 0.019   -   Acc: 0.60\n",
      "Epoch 36, CIFAR-10 Batch 4:  Loss: 0.018   -   Acc: 0.62\n",
      "Epoch 36, CIFAR-10 Batch 5:  Loss: 0.019   -   Acc: 0.61\n",
      "Epoch 37, CIFAR-10 Batch 1:  Loss: 0.027   -   Acc: 0.62\n",
      "Epoch 37, CIFAR-10 Batch 2:  Loss: 0.036   -   Acc: 0.60\n",
      "Epoch 37, CIFAR-10 Batch 3:  Loss: 0.010   -   Acc: 0.61\n",
      "Epoch 37, CIFAR-10 Batch 4:  Loss: 0.021   -   Acc: 0.61\n",
      "Epoch 37, CIFAR-10 Batch 5:  Loss: 0.018   -   Acc: 0.62\n",
      "Epoch 38, CIFAR-10 Batch 1:  Loss: 0.025   -   Acc: 0.62\n",
      "Epoch 38, CIFAR-10 Batch 2:  Loss: 0.017   -   Acc: 0.61\n",
      "Epoch 38, CIFAR-10 Batch 3:  Loss: 0.016   -   Acc: 0.58\n",
      "Epoch 38, CIFAR-10 Batch 4:  Loss: 0.011   -   Acc: 0.62\n",
      "Epoch 38, CIFAR-10 Batch 5:  Loss: 0.015   -   Acc: 0.62\n",
      "Epoch 39, CIFAR-10 Batch 1:  Loss: 0.025   -   Acc: 0.61\n",
      "Epoch 39, CIFAR-10 Batch 2:  Loss: 0.011   -   Acc: 0.62\n",
      "Epoch 39, CIFAR-10 Batch 3:  Loss: 0.015   -   Acc: 0.62\n",
      "Epoch 39, CIFAR-10 Batch 4:  Loss: 0.012   -   Acc: 0.62\n",
      "Epoch 39, CIFAR-10 Batch 5:  Loss: 0.022   -   Acc: 0.60\n",
      "Epoch 40, CIFAR-10 Batch 1:  Loss: 0.034   -   Acc: 0.60\n",
      "Epoch 40, CIFAR-10 Batch 2:  Loss: 0.018   -   Acc: 0.60\n",
      "Epoch 40, CIFAR-10 Batch 3:  Loss: 0.013   -   Acc: 0.61\n",
      "Epoch 40, CIFAR-10 Batch 4:  Loss: 0.029   -   Acc: 0.61\n",
      "Epoch 40, CIFAR-10 Batch 5:  Loss: 0.009   -   Acc: 0.61\n",
      "Epoch 41, CIFAR-10 Batch 1:  Loss: 0.057   -   Acc: 0.57\n",
      "Epoch 41, CIFAR-10 Batch 2:  Loss: 0.007   -   Acc: 0.62\n",
      "Epoch 41, CIFAR-10 Batch 3:  Loss: 0.022   -   Acc: 0.61\n",
      "Epoch 41, CIFAR-10 Batch 4:  Loss: 0.008   -   Acc: 0.62\n",
      "Epoch 41, CIFAR-10 Batch 5:  Loss: 0.007   -   Acc: 0.61\n",
      "Epoch 42, CIFAR-10 Batch 1:  Loss: 0.009   -   Acc: 0.61\n",
      "Epoch 42, CIFAR-10 Batch 2:  Loss: 0.014   -   Acc: 0.60\n",
      "Epoch 42, CIFAR-10 Batch 3:  Loss: 0.010   -   Acc: 0.62\n",
      "Epoch 42, CIFAR-10 Batch 4:  Loss: 0.016   -   Acc: 0.61\n",
      "Epoch 42, CIFAR-10 Batch 5:  Loss: 0.008   -   Acc: 0.63\n",
      "Epoch 43, CIFAR-10 Batch 1:  Loss: 0.014   -   Acc: 0.60\n",
      "Epoch 43, CIFAR-10 Batch 2:  Loss: 0.011   -   Acc: 0.61\n",
      "Epoch 43, CIFAR-10 Batch 3:  Loss: 0.026   -   Acc: 0.61\n",
      "Epoch 43, CIFAR-10 Batch 4:  Loss: 0.016   -   Acc: 0.60\n",
      "Epoch 43, CIFAR-10 Batch 5:  Loss: 0.006   -   Acc: 0.61\n",
      "Epoch 44, CIFAR-10 Batch 1:  Loss: 0.012   -   Acc: 0.63\n",
      "Epoch 44, CIFAR-10 Batch 2:  Loss: 0.004   -   Acc: 0.61\n",
      "Epoch 44, CIFAR-10 Batch 3:  Loss: 0.007   -   Acc: 0.63\n",
      "Epoch 44, CIFAR-10 Batch 4:  Loss: 0.013   -   Acc: 0.58\n",
      "Epoch 44, CIFAR-10 Batch 5:  Loss: 0.015   -   Acc: 0.62\n",
      "Epoch 45, CIFAR-10 Batch 1:  Loss: 0.009   -   Acc: 0.61\n",
      "Epoch 45, CIFAR-10 Batch 2:  Loss: 0.004   -   Acc: 0.60\n",
      "Epoch 45, CIFAR-10 Batch 3:  Loss: 0.009   -   Acc: 0.63\n",
      "Epoch 45, CIFAR-10 Batch 4:  Loss: 0.025   -   Acc: 0.58\n",
      "Epoch 45, CIFAR-10 Batch 5:  Loss: 0.008   -   Acc: 0.63\n",
      "Epoch 46, CIFAR-10 Batch 1:  Loss: 0.006   -   Acc: 0.61\n",
      "Epoch 46, CIFAR-10 Batch 2:  Loss: 0.006   -   Acc: 0.61\n",
      "Epoch 46, CIFAR-10 Batch 3:  Loss: 0.008   -   Acc: 0.62\n",
      "Epoch 46, CIFAR-10 Batch 4:  Loss: 0.009   -   Acc: 0.61\n",
      "Epoch 46, CIFAR-10 Batch 5:  Loss: 0.016   -   Acc: 0.60\n",
      "Epoch 47, CIFAR-10 Batch 1:  Loss: 0.005   -   Acc: 0.62\n",
      "Epoch 47, CIFAR-10 Batch 2:  Loss: 0.008   -   Acc: 0.59\n",
      "Epoch 47, CIFAR-10 Batch 3:  Loss: 0.010   -   Acc: 0.62\n",
      "Epoch 47, CIFAR-10 Batch 4:  Loss: 0.008   -   Acc: 0.62\n",
      "Epoch 47, CIFAR-10 Batch 5:  Loss: 0.012   -   Acc: 0.61\n",
      "Epoch 48, CIFAR-10 Batch 1:  Loss: 0.006   -   Acc: 0.61\n",
      "Epoch 48, CIFAR-10 Batch 2:  Loss: 0.011   -   Acc: 0.58\n",
      "Epoch 48, CIFAR-10 Batch 3:  Loss: 0.003   -   Acc: 0.63\n",
      "Epoch 48, CIFAR-10 Batch 4:  Loss: 0.004   -   Acc: 0.62\n",
      "Epoch 48, CIFAR-10 Batch 5:  Loss: 0.010   -   Acc: 0.60\n",
      "Epoch 49, CIFAR-10 Batch 1:  Loss: 0.006   -   Acc: 0.61\n",
      "Epoch 49, CIFAR-10 Batch 2:  Loss: 0.005   -   Acc: 0.61\n",
      "Epoch 49, CIFAR-10 Batch 3:  Loss: 0.007   -   Acc: 0.62\n",
      "Epoch 49, CIFAR-10 Batch 4:  Loss: 0.007   -   Acc: 0.60\n",
      "Epoch 49, CIFAR-10 Batch 5:  Loss: 0.004   -   Acc: 0.60\n",
      "Epoch 50, CIFAR-10 Batch 1:  Loss: 0.013   -   Acc: 0.59\n",
      "Epoch 50, CIFAR-10 Batch 2:  Loss: 0.005   -   Acc: 0.62\n",
      "Epoch 50, CIFAR-10 Batch 3:  Loss: 0.003   -   Acc: 0.63\n",
      "Epoch 50, CIFAR-10 Batch 4:  Loss: 0.004   -   Acc: 0.62\n",
      "Epoch 50, CIFAR-10 Batch 5:  Loss: 0.007   -   Acc: 0.61\n"
     ]
    }
   ],
   "source": [
    "\"\"\"\n",
    "DON'T MODIFY ANYTHING IN THIS CELL\n",
    "\"\"\"\n",
    "save_model_path = './image_classification'\n",
    "\n",
    "print('Training...')\n",
    "with tf.Session() as sess:\n",
    "    # Initializing the variables\n",
    "    sess.run(tf.global_variables_initializer())\n",
    "    \n",
    "    # Training cycle\n",
    "    for epoch in range(epochs):\n",
    "        # Loop over all batches\n",
    "        n_batches = 5\n",
    "        for batch_i in range(1, n_batches + 1):\n",
    "            for batch_features, batch_labels in helper.load_preprocess_training_batch(batch_i, batch_size):\n",
    "                train_neural_network(sess, optimizer, keep_probability, batch_features, batch_labels)\n",
    "            print('Epoch {:>2}, CIFAR-10 Batch {}:  '.format(epoch + 1, batch_i), end='')\n",
    "            print_stats(sess, batch_features, batch_labels, cost, accuracy)\n",
    "            \n",
    "    # Save Model\n",
    "    saver = tf.train.Saver()\n",
    "    save_path = saver.save(sess, save_model_path)"
   ]
  },
  {
   "cell_type": "markdown",
   "metadata": {
    "deletable": true,
    "editable": true
   },
   "source": [
    "# Checkpoint\n",
    "The model has been saved to disk.\n",
    "## Test Model\n",
    "Test your model against the test dataset.  This will be your final accuracy. You should have an accuracy greater than 50%. If you don't, keep tweaking the model architecture and parameters."
   ]
  },
  {
   "cell_type": "code",
   "execution_count": 20,
   "metadata": {
    "collapsed": false,
    "deletable": true,
    "editable": true
   },
   "outputs": [
    {
     "name": "stdout",
     "output_type": "stream",
     "text": [
      "Testing Accuracy: 0.60712890625\n",
      "\n"
     ]
    },
    {
     "data": {
      "image/png": "[encoded data removed]",
      "text/plain": [
       "<matplotlib.figure.Figure at 0x7fb75d48b5c0>"
      ]
     },
     "metadata": {
      "image/png": {
       "height": 319,
       "width": 355
      }
     },
     "output_type": "display_data"
    }
   ],
   "source": [
    "\"\"\"\n",
    "DON'T MODIFY ANYTHING IN THIS CELL\n",
    "\"\"\"\n",
    "%matplotlib inline\n",
    "%config InlineBackend.figure_format = 'retina'\n",
    "\n",
    "import tensorflow as tf\n",
    "import pickle\n",
    "import helper\n",
    "import random\n",
    "\n",
    "# Set batch size if not already set\n",
    "try:\n",
    "    if batch_size:\n",
    "        pass\n",
    "except NameError:\n",
    "    batch_size = 64\n",
    "\n",
    "save_model_path = './image_classification'\n",
    "n_samples = 4\n",
    "top_n_predictions = 3\n",
    "\n",
    "def test_model():\n",
    "    \"\"\"\n",
    "    Test the saved model against the test dataset\n",
    "    \"\"\"\n",
    "\n",
    "    test_features, test_labels = pickle.load(open('preprocess_training.p', mode='rb'))\n",
    "    loaded_graph = tf.Graph()\n",
    "\n",
    "    with tf.Session(graph=loaded_graph) as sess:\n",
    "        # Load model\n",
    "        loader = tf.train.import_meta_graph(save_model_path + '.meta')\n",
    "        loader.restore(sess, save_model_path)\n",
    "\n",
    "        # Get Tensors from loaded model\n",
    "        loaded_x = loaded_graph.get_tensor_by_name('x:0')\n",
    "        loaded_y = loaded_graph.get_tensor_by_name('y:0')\n",
    "        loaded_keep_prob = loaded_graph.get_tensor_by_name('keep_prob:0')\n",
    "        loaded_logits = loaded_graph.get_tensor_by_name('logits:0')\n",
    "        loaded_acc = loaded_graph.get_tensor_by_name('accuracy:0')\n",
    "        \n",
    "        # Get accuracy in batches for memory limitations\n",
    "        test_batch_acc_total = 0\n",
    "        test_batch_count = 0\n",
    "        \n",
    "        for train_feature_batch, train_label_batch in helper.batch_features_labels(test_features, test_labels, batch_size):\n",
    "            test_batch_acc_total += sess.run(\n",
    "                loaded_acc,\n",
    "                feed_dict={loaded_x: train_feature_batch, loaded_y: train_label_batch, loaded_keep_prob: 1.0})\n",
    "            test_batch_count += 1\n",
    "\n",
    "        print('Testing Accuracy: {}\\n'.format(test_batch_acc_total/test_batch_count))\n",
    "\n",
    "        # Print Random Samples\n",
    "        random_test_features, random_test_labels = tuple(zip(*random.sample(list(zip(test_features, test_labels)), n_samples)))\n",
    "        random_test_predictions = sess.run(\n",
    "            tf.nn.top_k(tf.nn.softmax(loaded_logits), top_n_predictions),\n",
    "            feed_dict={loaded_x: random_test_features, loaded_y: random_test_labels, loaded_keep_prob: 1.0})\n",
    "        helper.display_image_predictions(random_test_features, random_test_labels, random_test_predictions)\n",
    "\n",
    "\n",
    "test_model()"
   ]
  },
  {
   "cell_type": "markdown",
   "metadata": {
    "deletable": true,
    "editable": true
   },
   "source": [
    "## Why 50-70% Accuracy?\n",
    "You might be wondering why you can't get an accuracy any higher. First things first, 50% isn't bad for a simple CNN.  Pure guessing would get you 10% accuracy. However, you might notice people are getting scores [well above 70%](http://rodrigob.github.io/are_we_there_yet/build/classification_datasets_results.html#43494641522d3130).  That's because we haven't taught you all there is to know about neural networks. We still need to cover a few more techniques.\n",
    "## Submitting This Project\n",
    "When submitting this project, make sure to run all the cells before saving the notebook.  Save the notebook file as \"dlnd_image_classification.ipynb\" and save it as a HTML file under \"File\" -> \"Download as\".  Include the \"helper.py\" and \"problem_unittests.py\" files in your submission."
   ]
  }
 ],
 "metadata": {
  "kernelspec": {
   "display_name": "Python 3",
   "language": "python",
   "name": "python3"
  },
  "language_info": {
   "codemirror_mode": {
    "name": "ipython",
    "version": 3
   },
   "file_extension": ".py",
   "mimetype": "text/x-python",
   "name": "python",
   "nbconvert_exporter": "python",
   "pygments_lexer": "ipython3",
   "version": "3.5.2"
  },
  "widgets": {
   "state": {},
   "version": "1.1.2"
  }
 },
 "nbformat": 4,
 "nbformat_minor": 0
}
