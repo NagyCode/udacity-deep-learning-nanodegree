{
 "cells": [
  {
   "cell_type": "markdown",
   "metadata": {
    "deletable": true,
    "editable": true
   },
   "source": [
    "# TV Script Generation\n",
    "In this project, you'll generate your own [Simpsons](https://en.wikipedia.org/wiki/The_Simpsons) TV scripts using RNNs.  You'll be using part of the [Simpsons dataset](https://www.kaggle.com/wcukierski/the-simpsons-by-the-data) of scripts from 27 seasons.  The Neural Network you'll build will generate a new TV script for a scene at [Moe's Tavern](https://simpsonswiki.com/wiki/Moe's_Tavern).\n",
    "## Get the Data\n",
    "The data is already provided for you.  You'll be using a subset of the original dataset.  It consists of only the scenes in Moe's Tavern.  This doesn't include other versions of the tavern, like \"Moe's Cavern\", \"Flaming Moe's\", \"Uncle Moe's Family Feed-Bag\", etc.."
   ]
  },
  {
   "cell_type": "code",
   "execution_count": 1,
   "metadata": {
    "collapsed": false,
    "deletable": true,
    "editable": true
   },
   "outputs": [],
   "source": [
    "\"\"\"\n",
    "DON'T MODIFY ANYTHING IN THIS CELL\n",
    "\"\"\"\n",
    "import helper\n",
    "\n",
    "data_dir = './data/simpsons/moes_tavern_lines.txt'\n",
    "text = helper.load_data(data_dir)\n",
    "# Ignore notice, since we don't use it for analysing the data\n",
    "text = text[81:]"
   ]
  },
  {
   "cell_type": "markdown",
   "metadata": {
    "deletable": true,
    "editable": true
   },
   "source": [
    "## Explore the Data\n",
    "Play around with `view_sentence_range` to view different parts of the data."
   ]
  },
  {
   "cell_type": "code",
   "execution_count": 2,
   "metadata": {
    "collapsed": false,
    "deletable": true,
    "editable": true
   },
   "outputs": [
    {
     "name": "stdout",
     "output_type": "stream",
     "text": [
      "Dataset Stats\n",
      "Roughly the number of unique words: 11492\n",
      "Number of scenes: 262\n",
      "Average number of sentences in each scene: 15.248091603053435\n",
      "Number of lines: 4257\n",
      "Average number of words in each line: 11.50434578341555\n",
      "\n",
      "The sentences 0 to 10:\n",
      "Moe_Szyslak: (INTO PHONE) Moe's Tavern. Where the elite meet to drink.\n",
      "Bart_Simpson: Eh, yeah, hello, is Mike there? Last name, Rotch.\n",
      "Moe_Szyslak: (INTO PHONE) Hold on, I'll check. (TO BARFLIES) Mike Rotch. Mike Rotch. Hey, has anybody seen Mike Rotch, lately?\n",
      "Moe_Szyslak: (INTO PHONE) Listen you little puke. One of these days I'm gonna catch you, and I'm gonna carve my name on your back with an ice pick.\n",
      "Moe_Szyslak: What's the matter Homer? You're not your normal effervescent self.\n",
      "Homer_Simpson: I got my problems, Moe. Give me another one.\n",
      "Moe_Szyslak: Homer, hey, you should not drink to forget your problems.\n",
      "Barney_Gumble: Yeah, you should only drink to enhance your social skills.\n",
      "\n",
      "\n"
     ]
    }
   ],
   "source": [
    "view_sentence_range = (0, 10)\n",
    "\n",
    "\"\"\"\n",
    "DON'T MODIFY ANYTHING IN THIS CELL\n",
    "\"\"\"\n",
    "import numpy as np\n",
    "\n",
    "print('Dataset Stats')\n",
    "print('Roughly the number of unique words: {}'.format(len({word: None for word in text.split()})))\n",
    "scenes = text.split('\\n\\n')\n",
    "print('Number of scenes: {}'.format(len(scenes)))\n",
    "sentence_count_scene = [scene.count('\\n') for scene in scenes]\n",
    "print('Average number of sentences in each scene: {}'.format(np.average(sentence_count_scene)))\n",
    "\n",
    "sentences = [sentence for scene in scenes for sentence in scene.split('\\n')]\n",
    "print('Number of lines: {}'.format(len(sentences)))\n",
    "word_count_sentence = [len(sentence.split()) for sentence in sentences]\n",
    "print('Average number of words in each line: {}'.format(np.average(word_count_sentence)))\n",
    "\n",
    "print()\n",
    "print('The sentences {} to {}:'.format(*view_sentence_range))\n",
    "print('\\n'.join(text.split('\\n')[view_sentence_range[0]:view_sentence_range[1]]))"
   ]
  },
  {
   "cell_type": "markdown",
   "metadata": {
    "deletable": true,
    "editable": true
   },
   "source": [
    "## Implement Preprocessing Functions\n",
    "The first thing to do to any dataset is preprocessing.  Implement the following preprocessing functions below:\n",
    "- Lookup Table\n",
    "- Tokenize Punctuation\n",
    "\n",
    "### Lookup Table\n",
    "To create a word embedding, you first need to transform the words to ids.  In this function, create two dictionaries:\n",
    "- Dictionary to go from the words to an id, we'll call `vocab_to_int`\n",
    "- Dictionary to go from the id to word, we'll call `int_to_vocab`\n",
    "\n",
    "Return these dictionaries in the following tuple `(vocab_to_int, int_to_vocab)`"
   ]
  },
  {
   "cell_type": "code",
   "execution_count": 3,
   "metadata": {
    "collapsed": false,
    "deletable": true,
    "editable": true
   },
   "outputs": [
    {
     "name": "stdout",
     "output_type": "stream",
     "text": [
      "Tests Passed\n"
     ]
    }
   ],
   "source": [
    "import numpy as np\n",
    "import problem_unittests as tests\n",
    "from collections import Counter\n",
    "\n",
    "def create_lookup_tables(text):\n",
    "    \"\"\"\n",
    "    Create lookup tables for vocabulary\n",
    "    :param text: The text of tv scripts split into words\n",
    "    :return: A tuple of dicts (vocab_to_int, int_to_vocab)\n",
    "    \"\"\"\n",
    "    # TODO: Implement Function\n",
    "    # from Skip-gram word2vec\n",
    "    word_counts = Counter(text)    \n",
    "    sorted_vocab = sorted(word_counts, key=word_counts.get, reverse=True)\n",
    "    int_to_vocab = {ii: word for ii, word in enumerate(sorted_vocab)}\n",
    "    vocab_to_int = {word: ii for ii, word in int_to_vocab.items()}\n",
    "    \n",
    "    return vocab_to_int, int_to_vocab\n",
    "\n",
    "\n",
    "\"\"\"\n",
    "DON'T MODIFY ANYTHING IN THIS CELL THAT IS BELOW THIS LINE\n",
    "\"\"\"\n",
    "tests.test_create_lookup_tables(create_lookup_tables)"
   ]
  },
  {
   "cell_type": "markdown",
   "metadata": {
    "deletable": true,
    "editable": true
   },
   "source": [
    "### Tokenize Punctuation\n",
    "We'll be splitting the script into a word array using spaces as delimiters.  However, punctuations like periods and exclamation marks make it hard for the neural network to distinguish between the word \"bye\" and \"bye!\".\n",
    "\n",
    "Implement the function `token_lookup` to return a dict that will be used to tokenize symbols like \"!\" into \"||Exclamation_Mark||\".  Create a dictionary for the following symbols where the symbol is the key and value is the token:\n",
    "- Period ( . )\n",
    "- Comma ( , )\n",
    "- Quotation Mark ( \" )\n",
    "- Semicolon ( ; )\n",
    "- Exclamation mark ( ! )\n",
    "- Question mark ( ? )\n",
    "- Left Parentheses ( ( )\n",
    "- Right Parentheses ( ) )\n",
    "- Dash ( -- )\n",
    "- Return ( \\n )\n",
    "\n",
    "This dictionary will be used to token the symbols and add the delimiter (space) around it.  This separates the symbols as it's own word, making it easier for the neural network to predict on the next word. Make sure you don't use a token that could be confused as a word. Instead of using the token \"dash\", try using something like \"||dash||\"."
   ]
  },
  {
   "cell_type": "code",
   "execution_count": 4,
   "metadata": {
    "collapsed": false,
    "deletable": true,
    "editable": true
   },
   "outputs": [
    {
     "name": "stdout",
     "output_type": "stream",
     "text": [
      "Tests Passed\n"
     ]
    }
   ],
   "source": [
    "def token_lookup():\n",
    "    \"\"\"\n",
    "    Generate a dict to turn punctuation into a token.\n",
    "    :return: Tokenize dictionary where the key is the punctuation and the value is the token\n",
    "    \"\"\"\n",
    "    # TODO: Implement Function\n",
    "    dict = {}\n",
    "    dict['.'] = '||period||'\n",
    "    dict[','] = '||comma||'\n",
    "    dict['\\\"'] = '||quotation_mark||'\n",
    "    dict[';'] = '||semicolon||'\n",
    "    dict['!'] = '||exclamation_mark||'\n",
    "    dict['?'] = '||question_mark||'\n",
    "    dict['('] = '||left_parentheses||'\n",
    "    dict[')'] = '||right_parentheses||'\n",
    "    dict['--'] = '||dash||'\n",
    "    dict['\\n'] = '||return||'\n",
    "\n",
    "    return dict\n",
    "\n",
    "\"\"\"\n",
    "DON'T MODIFY ANYTHING IN THIS CELL THAT IS BELOW THIS LINE\n",
    "\"\"\"\n",
    "tests.test_tokenize(token_lookup)"
   ]
  },
  {
   "cell_type": "markdown",
   "metadata": {
    "deletable": true,
    "editable": true
   },
   "source": [
    "## Preprocess all the data and save it\n",
    "Running the code cell below will preprocess all the data and save it to file."
   ]
  },
  {
   "cell_type": "code",
   "execution_count": 5,
   "metadata": {
    "collapsed": false,
    "deletable": true,
    "editable": true
   },
   "outputs": [],
   "source": [
    "\"\"\"\n",
    "DON'T MODIFY ANYTHING IN THIS CELL\n",
    "\"\"\"\n",
    "# Preprocess Training, Validation, and Testing Data\n",
    "helper.preprocess_and_save_data(data_dir, token_lookup, create_lookup_tables)"
   ]
  },
  {
   "cell_type": "markdown",
   "metadata": {
    "deletable": true,
    "editable": true
   },
   "source": [
    "# Check Point\n",
    "This is your first checkpoint. If you ever decide to come back to this notebook or have to restart the notebook, you can start from here. The preprocessed data has been saved to disk."
   ]
  },
  {
   "cell_type": "code",
   "execution_count": 6,
   "metadata": {
    "collapsed": false,
    "deletable": true,
    "editable": true
   },
   "outputs": [],
   "source": [
    "\"\"\"\n",
    "DON'T MODIFY ANYTHING IN THIS CELL\n",
    "\"\"\"\n",
    "import helper\n",
    "import numpy as np\n",
    "import problem_unittests as tests\n",
    "\n",
    "int_text, vocab_to_int, int_to_vocab, token_dict = helper.load_preprocess()"
   ]
  },
  {
   "cell_type": "markdown",
   "metadata": {
    "deletable": true,
    "editable": true
   },
   "source": [
    "## Build the Neural Network\n",
    "You'll build the components necessary to build a RNN by implementing the following functions below:\n",
    "- get_inputs\n",
    "- get_init_cell\n",
    "- get_embed\n",
    "- build_rnn\n",
    "- build_nn\n",
    "- get_batches\n",
    "\n",
    "### Check the Version of TensorFlow and Access to GPU"
   ]
  },
  {
   "cell_type": "code",
   "execution_count": 7,
   "metadata": {
    "collapsed": false,
    "deletable": true,
    "editable": true
   },
   "outputs": [
    {
     "name": "stdout",
     "output_type": "stream",
     "text": [
      "TensorFlow Version: 1.0.0\n",
      "Default GPU Device: /gpu:0\n"
     ]
    }
   ],
   "source": [
    "\"\"\"\n",
    "DON'T MODIFY ANYTHING IN THIS CELL\n",
    "\"\"\"\n",
    "from distutils.version import LooseVersion\n",
    "import warnings\n",
    "import tensorflow as tf\n",
    "\n",
    "# Check TensorFlow Version\n",
    "assert LooseVersion(tf.__version__) >= LooseVersion('1.0'), 'Please use TensorFlow version 1.0 or newer'\n",
    "print('TensorFlow Version: {}'.format(tf.__version__))\n",
    "\n",
    "# Check for a GPU\n",
    "if not tf.test.gpu_device_name():\n",
    "    warnings.warn('No GPU found. Please use a GPU to train your neural network.')\n",
    "else:\n",
    "    print('Default GPU Device: {}'.format(tf.test.gpu_device_name()))"
   ]
  },
  {
   "cell_type": "markdown",
   "metadata": {
    "deletable": true,
    "editable": true
   },
   "source": [
    "### Input\n",
    "Implement the `get_inputs()` function to create TF Placeholders for the Neural Network.  It should create the following placeholders:\n",
    "- Input text placeholder named \"input\" using the [TF Placeholder](https://www.tensorflow.org/api_docs/python/tf/placeholder) `name` parameter.\n",
    "- Targets placeholder\n",
    "- Learning Rate placeholder\n",
    "\n",
    "Return the placeholders in the following the tuple `(Input, Targets, LearingRate)`"
   ]
  },
  {
   "cell_type": "code",
   "execution_count": 8,
   "metadata": {
    "collapsed": false,
    "deletable": true,
    "editable": true
   },
   "outputs": [
    {
     "name": "stdout",
     "output_type": "stream",
     "text": [
      "Tests Passed\n"
     ]
    }
   ],
   "source": [
    "def get_inputs():\n",
    "    \"\"\"\n",
    "    Create TF Placeholders for input, targets, and learning rate.\n",
    "    :return: Tuple (input, targets, learning rate)\n",
    "    \"\"\"\n",
    "    # TODO: Implement Function\n",
    "    inputs = tf.placeholder(tf.int32, [None, None], name='input')\n",
    "    targets = tf.placeholder(tf.int32, [None, None], name='labels')\n",
    "    learning_rate = tf.placeholder(tf.float32, name='learning_rate')\n",
    "    \n",
    "    return inputs, targets, learning_rate\n",
    "\n",
    "\"\"\"\n",
    "DON'T MODIFY ANYTHING IN THIS CELL THAT IS BELOW THIS LINE\n",
    "\"\"\"\n",
    "tests.test_get_inputs(get_inputs)"
   ]
  },
  {
   "cell_type": "markdown",
   "metadata": {
    "deletable": true,
    "editable": true
   },
   "source": [
    "### Build RNN Cell and Initialize\n",
    "Stack one or more [`BasicLSTMCells`](https://www.tensorflow.org/api_docs/python/tf/contrib/rnn/BasicLSTMCell) in a [`MultiRNNCell`](https://www.tensorflow.org/api_docs/python/tf/contrib/rnn/MultiRNNCell).\n",
    "- The Rnn size should be set using `rnn_size`\n",
    "- Initalize Cell State using the MultiRNNCell's [`zero_state()`](https://www.tensorflow.org/api_docs/python/tf/contrib/rnn/MultiRNNCell#zero_state) function\n",
    "    - Apply the name \"initial_state\" to the initial state using [`tf.identity()`](https://www.tensorflow.org/api_docs/python/tf/identity)\n",
    "\n",
    "Return the cell and initial state in the following tuple `(Cell, InitialState)`"
   ]
  },
  {
   "cell_type": "code",
   "execution_count": 9,
   "metadata": {
    "collapsed": false,
    "deletable": true,
    "editable": true
   },
   "outputs": [
    {
     "name": "stdout",
     "output_type": "stream",
     "text": [
      "Tests Passed\n"
     ]
    }
   ],
   "source": [
    "def get_init_cell(batch_size, rnn_size):\n",
    "    \"\"\"\n",
    "    Create an RNN Cell and initialize it.\n",
    "    :param batch_size: Size of batches\n",
    "    :param rnn_size: Size of RNNs\n",
    "    :return: Tuple (cell, initialize state)\n",
    "    \"\"\"\n",
    "    # TODO: Implement Function\n",
    "    lstm = tf.contrib.rnn.BasicLSTMCell(rnn_size)\n",
    "    drop = tf.contrib.rnn.DropoutWrapper(lstm, output_keep_prob=1.0) # no dropout so keep prob = 100%\n",
    "    cell = tf.contrib.rnn.MultiRNNCell([drop])\n",
    "    initial_state = cell.zero_state(batch_size, tf.float32)\n",
    "    initial_state = tf.identity(initial_state, name='initial_state')\n",
    "    \n",
    "    return cell, initial_state\n",
    "\n",
    "\n",
    "\"\"\"\n",
    "DON'T MODIFY ANYTHING IN THIS CELL THAT IS BELOW THIS LINE\n",
    "\"\"\"\n",
    "tests.test_get_init_cell(get_init_cell)"
   ]
  },
  {
   "cell_type": "markdown",
   "metadata": {
    "deletable": true,
    "editable": true
   },
   "source": [
    "### Word Embedding\n",
    "Apply embedding to `input_data` using TensorFlow.  Return the embedded sequence."
   ]
  },
  {
   "cell_type": "code",
   "execution_count": 10,
   "metadata": {
    "collapsed": false,
    "deletable": true,
    "editable": true
   },
   "outputs": [
    {
     "name": "stdout",
     "output_type": "stream",
     "text": [
      "Tests Passed\n"
     ]
    }
   ],
   "source": [
    "def get_embed(input_data, vocab_size, embed_dim):\n",
    "    \"\"\"\n",
    "    Create embedding for <input_data>.\n",
    "    :param input_data: TF placeholder for text input.\n",
    "    :param vocab_size: Number of words in vocabulary.\n",
    "    :param embed_dim: Number of embedding dimensions\n",
    "    :return: Embedded input.\n",
    "    \"\"\"\n",
    "    # TODO: Implement Function\n",
    "    embedding = tf.Variable(tf.random_uniform((vocab_size, embed_dim), -1, 1))\n",
    "    embed = tf.nn.embedding_lookup(embedding, input_data)\n",
    "    \n",
    "    return embed\n",
    "\n",
    "\n",
    "\"\"\"\n",
    "DON'T MODIFY ANYTHING IN THIS CELL THAT IS BELOW THIS LINE\n",
    "\"\"\"\n",
    "tests.test_get_embed(get_embed)"
   ]
  },
  {
   "cell_type": "markdown",
   "metadata": {
    "deletable": true,
    "editable": true
   },
   "source": [
    "### Build RNN\n",
    "You created a RNN Cell in the `get_init_cell()` function.  Time to use the cell to create a RNN.\n",
    "- Build the RNN using the [`tf.nn.dynamic_rnn()`](https://www.tensorflow.org/api_docs/python/tf/nn/dynamic_rnn)\n",
    " - Apply the name \"final_state\" to the final state using [`tf.identity()`](https://www.tensorflow.org/api_docs/python/tf/identity)\n",
    "\n",
    "Return the outputs and final_state state in the following tuple `(Outputs, FinalState)` "
   ]
  },
  {
   "cell_type": "code",
   "execution_count": 11,
   "metadata": {
    "collapsed": false,
    "deletable": true,
    "editable": true
   },
   "outputs": [
    {
     "name": "stdout",
     "output_type": "stream",
     "text": [
      "Tests Passed\n"
     ]
    }
   ],
   "source": [
    "def build_rnn(cell, inputs):\n",
    "    \"\"\"\n",
    "    Create a RNN using a RNN Cell\n",
    "    :param cell: RNN Cell\n",
    "    :param inputs: Input text data\n",
    "    :return: Tuple (Outputs, Final State)\n",
    "    \"\"\"\n",
    "    # TODO: Implement Function\n",
    "    outputs, final_state = tf.nn.dynamic_rnn(cell, inputs, dtype=tf.float32) # must define dtype if no initial state\n",
    "    final_state = tf.identity(final_state, name='final_state')\n",
    "    \n",
    "    return outputs, final_state\n",
    "\n",
    "\n",
    "\"\"\"\n",
    "DON'T MODIFY ANYTHING IN THIS CELL THAT IS BELOW THIS LINE\n",
    "\"\"\"\n",
    "tests.test_build_rnn(build_rnn)"
   ]
  },
  {
   "cell_type": "markdown",
   "metadata": {
    "deletable": true,
    "editable": true
   },
   "source": [
    "### Build the Neural Network\n",
    "Apply the functions you implemented above to:\n",
    "- Apply embedding to `input_data` using your `get_embed(input_data, vocab_size, embed_dim)` function.\n",
    "- Build RNN using `cell` and your `build_rnn(cell, inputs)` function.\n",
    "- Apply a fully connected layer with a linear activation and `vocab_size` as the number of outputs.\n",
    "\n",
    "Return the logits and final state in the following tuple (Logits, FinalState) "
   ]
  },
  {
   "cell_type": "code",
   "execution_count": 12,
   "metadata": {
    "collapsed": false,
    "deletable": true,
    "editable": true
   },
   "outputs": [
    {
     "name": "stdout",
     "output_type": "stream",
     "text": [
      "Tests Passed\n"
     ]
    }
   ],
   "source": [
    "def build_nn(cell, rnn_size, input_data, vocab_size):\n",
    "    \"\"\"\n",
    "    Build part of the neural network\n",
    "    :param cell: RNN cell\n",
    "    :param rnn_size: Size of rnns\n",
    "    :param input_data: Input data\n",
    "    :param vocab_size: Vocabulary size\n",
    "    :return: Tuple (Logits, FinalState)\n",
    "    \"\"\"\n",
    "    # TODO: Implement Function\n",
    "    # Apply embedding to input_data using your get_embed(input_data, vocab_size, embed_dim) function\n",
    "    embed = get_embed(input_data, vocab_size, rnn_size)\n",
    "    \n",
    "    # Build RNN using cell and your build_rnn(cell, inputs) function\n",
    "    outputs, final_state = build_rnn(cell, embed)\n",
    "    \n",
    "    # Apply a fully connected layer with a linear activation and vocab_size as the number of outputs\n",
    "    # activation_fn: Explicitly set it to None to skip it and maintain a linear activation\n",
    "    logits = tf.contrib.layers.fully_connected(outputs, vocab_size, activation_fn=None)\n",
    "    \n",
    "    return logits, final_state\n",
    "\n",
    "\n",
    "\"\"\"\n",
    "DON'T MODIFY ANYTHING IN THIS CELL THAT IS BELOW THIS LINE\n",
    "\"\"\"\n",
    "tests.test_build_nn(build_nn)"
   ]
  },
  {
   "cell_type": "markdown",
   "metadata": {
    "deletable": true,
    "editable": true
   },
   "source": [
    "### Batches\n",
    "Implement `get_batches` to create batches of input and targets using `int_text`.  The batches should be a Numpy array with the shape `(number of batches, 2, batch size, sequence length)`. Each batch contains two elements:\n",
    "- The first element is a single batch of **input** with the shape `[batch size, sequence length]`\n",
    "- The second element is a single batch of **targets** with the shape `[batch size, sequence length]`\n",
    "\n",
    "If you can't fill the last batch with enough data, drop the last batch.\n",
    "\n",
    "For exmple, `get_batches([1, 2, 3, 4, 5, 6, 7, 8, 9, 10, 11, 12, 13, 14, 15], 2, 3)` would return a Numpy array of the following:\n",
    "```\n",
    "[\n",
    "  # First Batch\n",
    "  [\n",
    "    # Batch of Input\n",
    "    [[ 1  2  3], [ 7  8  9]],\n",
    "    # Batch of targets\n",
    "    [[ 2  3  4], [ 8  9 10]]\n",
    "  ],\n",
    " \n",
    "  # Second Batch\n",
    "  [\n",
    "    # Batch of Input\n",
    "    [[ 4  5  6], [10 11 12]],\n",
    "    # Batch of targets\n",
    "    [[ 5  6  7], [11 12 13]]\n",
    "  ]\n",
    "]\n",
    "```"
   ]
  },
  {
   "cell_type": "code",
   "execution_count": 13,
   "metadata": {
    "collapsed": false,
    "deletable": true,
    "editable": true
   },
   "outputs": [
    {
     "name": "stdout",
     "output_type": "stream",
     "text": [
      "Tests Passed\n"
     ]
    }
   ],
   "source": [
    "def get_batches(int_text, batch_size, seq_length):\n",
    "    \"\"\"\n",
    "    Return batches of input and target\n",
    "    :param int_text: Text with the words replaced by their ids\n",
    "    :param batch_size: The size of batch\n",
    "    :param seq_length: The length of sequence\n",
    "    :return: Batches as a Numpy array\n",
    "    \"\"\"\n",
    "    # TODO: Implement Function\n",
    "    n_batches = int(len(int_text) / (batch_size * seq_length))\n",
    "\n",
    "    # Drop the last few characters to make only full batches\n",
    "    xdata = np.array(int_text[: n_batches * batch_size * seq_length])\n",
    "    ydata = np.array(int_text[1: n_batches * batch_size * seq_length + 1])\n",
    "\n",
    "    x_batches = np.split(xdata.reshape(batch_size, -1), n_batches, 1)\n",
    "    y_batches = np.split(ydata.reshape(batch_size, -1), n_batches, 1)\n",
    "\n",
    "    #print(np.array(list(zip(x_batches, y_batches))))\n",
    "    return np.array(list(zip(x_batches, y_batches)))\n",
    "\n",
    "#get_batches([1, 2, 3, 4, 5, 6, 7, 8, 9, 10, 11, 12, 13, 14, 15], 2, 3)\n",
    "\n",
    "\"\"\"\n",
    "DON'T MODIFY ANYTHING IN THIS CELL THAT IS BELOW THIS LINE\n",
    "\"\"\"\n",
    "tests.test_get_batches(get_batches)"
   ]
  },
  {
   "cell_type": "markdown",
   "metadata": {
    "deletable": true,
    "editable": true
   },
   "source": [
    "## Neural Network Training\n",
    "### Hyperparameters\n",
    "Tune the following parameters:\n",
    "\n",
    "- Set `num_epochs` to the number of epochs.\n",
    "- Set `batch_size` to the batch size.\n",
    "- Set `rnn_size` to the size of the RNNs.\n",
    "- Set `seq_length` to the length of sequence.\n",
    "- Set `learning_rate` to the learning rate.\n",
    "- Set `show_every_n_batches` to the number of batches the neural network should print progress."
   ]
  },
  {
   "cell_type": "code",
   "execution_count": 14,
   "metadata": {
    "collapsed": true,
    "deletable": true,
    "editable": true
   },
   "outputs": [],
   "source": [
    "# Number of Epochs\n",
    "num_epochs = 50\n",
    "# Batch Size\n",
    "batch_size = 64\n",
    "# RNN Size\n",
    "rnn_size = 1024\n",
    "# Sequence Length\n",
    "seq_length = 16\n",
    "# Learning Rate\n",
    "learning_rate = 0.001\n",
    "# Show stats for every n number of batches\n",
    "show_every_n_batches = 11 # set to 11 for batch_size 128\n",
    "\n",
    "#epo, bat,  rnn, se, lnrat\n",
    "#100, 128,  512, 16, 0.001 --> train_loss = 1.225\n",
    "#100, 128, 1024, 16, 0.001 --> train_loss = 1.532\n",
    "#100,  64, 1024, 16, 0.001 --> train_loss = 0.825\n",
    "#200,  64, 1024, 16, 0.001 --> train_loss = 0.221 @ epoch 93\n",
    "# 50,  64, 1024, 16, 0.001 --> train_loss = 0.235\n",
    "\n",
    "\"\"\"\n",
    "DON'T MODIFY ANYTHING IN THIS CELL THAT IS BELOW THIS LINE\n",
    "\"\"\"\n",
    "save_dir = './save'"
   ]
  },
  {
   "cell_type": "markdown",
   "metadata": {
    "deletable": true,
    "editable": true
   },
   "source": [
    "### Build the Graph\n",
    "Build the graph using the neural network you implemented."
   ]
  },
  {
   "cell_type": "code",
   "execution_count": 15,
   "metadata": {
    "collapsed": false,
    "deletable": true,
    "editable": true
   },
   "outputs": [],
   "source": [
    "\"\"\"\n",
    "DON'T MODIFY ANYTHING IN THIS CELL\n",
    "\"\"\"\n",
    "from tensorflow.contrib import seq2seq\n",
    "\n",
    "train_graph = tf.Graph()\n",
    "with train_graph.as_default():\n",
    "    vocab_size = len(int_to_vocab)\n",
    "    input_text, targets, lr = get_inputs()\n",
    "    input_data_shape = tf.shape(input_text)\n",
    "    cell, initial_state = get_init_cell(input_data_shape[0], rnn_size)\n",
    "    logits, final_state = build_nn(cell, rnn_size, input_text, vocab_size)\n",
    "\n",
    "    # Probabilities for generating words\n",
    "    probs = tf.nn.softmax(logits, name='probs')\n",
    "\n",
    "    # Loss function\n",
    "    cost = seq2seq.sequence_loss(\n",
    "        logits,\n",
    "        targets,\n",
    "        tf.ones([input_data_shape[0], input_data_shape[1]]))\n",
    "\n",
    "    # Optimizer\n",
    "    optimizer = tf.train.AdamOptimizer(lr)\n",
    "\n",
    "    # Gradient Clipping\n",
    "    gradients = optimizer.compute_gradients(cost)\n",
    "    capped_gradients = [(tf.clip_by_value(grad, -1., 1.), var) for grad, var in gradients]\n",
    "    train_op = optimizer.apply_gradients(capped_gradients)"
   ]
  },
  {
   "cell_type": "markdown",
   "metadata": {
    "deletable": true,
    "editable": true
   },
   "source": [
    "## Train\n",
    "Train the neural network on the preprocessed data.  If you have a hard time getting a good loss, check the [forms](https://discussions.udacity.com/) to see if anyone is having the same problem."
   ]
  },
  {
   "cell_type": "code",
   "execution_count": 16,
   "metadata": {
    "collapsed": false,
    "deletable": true,
    "editable": true
   },
   "outputs": [
    {
     "name": "stdout",
     "output_type": "stream",
     "text": [
      "Epoch   0 Batch    0/67   train_loss = 8.822\n",
      "Epoch   0 Batch   11/67   train_loss = 6.126\n",
      "Epoch   0 Batch   22/67   train_loss = 5.649\n",
      "Epoch   0 Batch   33/67   train_loss = 5.561\n",
      "Epoch   0 Batch   44/67   train_loss = 5.595\n",
      "Epoch   0 Batch   55/67   train_loss = 5.496\n",
      "Epoch   0 Batch   66/67   train_loss = 5.139\n",
      "Epoch   1 Batch   10/67   train_loss = 5.031\n",
      "Epoch   1 Batch   21/67   train_loss = 4.972\n",
      "Epoch   1 Batch   32/67   train_loss = 5.009\n",
      "Epoch   1 Batch   43/67   train_loss = 4.932\n",
      "Epoch   1 Batch   54/67   train_loss = 4.862\n",
      "Epoch   1 Batch   65/67   train_loss = 4.527\n",
      "Epoch   2 Batch    9/67   train_loss = 4.520\n",
      "Epoch   2 Batch   20/67   train_loss = 4.483\n",
      "Epoch   2 Batch   31/67   train_loss = 4.413\n",
      "Epoch   2 Batch   42/67   train_loss = 4.605\n",
      "Epoch   2 Batch   53/67   train_loss = 4.584\n",
      "Epoch   2 Batch   64/67   train_loss = 4.108\n",
      "Epoch   3 Batch    8/67   train_loss = 4.164\n",
      "Epoch   3 Batch   19/67   train_loss = 4.147\n",
      "Epoch   3 Batch   30/67   train_loss = 4.082\n",
      "Epoch   3 Batch   41/67   train_loss = 4.049\n",
      "Epoch   3 Batch   52/67   train_loss = 4.149\n",
      "Epoch   3 Batch   63/67   train_loss = 3.949\n",
      "Epoch   4 Batch    7/67   train_loss = 3.887\n",
      "Epoch   4 Batch   18/67   train_loss = 3.925\n",
      "Epoch   4 Batch   29/67   train_loss = 3.966\n",
      "Epoch   4 Batch   40/67   train_loss = 3.891\n",
      "Epoch   4 Batch   51/67   train_loss = 3.740\n",
      "Epoch   4 Batch   62/67   train_loss = 3.697\n",
      "Epoch   5 Batch    6/67   train_loss = 3.566\n",
      "Epoch   5 Batch   17/67   train_loss = 3.668\n",
      "Epoch   5 Batch   28/67   train_loss = 3.580\n",
      "Epoch   5 Batch   39/67   train_loss = 3.469\n",
      "Epoch   5 Batch   50/67   train_loss = 3.353\n",
      "Epoch   5 Batch   61/67   train_loss = 3.346\n",
      "Epoch   6 Batch    5/67   train_loss = 3.419\n",
      "Epoch   6 Batch   16/67   train_loss = 3.277\n",
      "Epoch   6 Batch   27/67   train_loss = 3.380\n",
      "Epoch   6 Batch   38/67   train_loss = 3.268\n",
      "Epoch   6 Batch   49/67   train_loss = 3.143\n",
      "Epoch   6 Batch   60/67   train_loss = 3.045\n",
      "Epoch   7 Batch    4/67   train_loss = 2.949\n",
      "Epoch   7 Batch   15/67   train_loss = 3.055\n",
      "Epoch   7 Batch   26/67   train_loss = 3.000\n",
      "Epoch   7 Batch   37/67   train_loss = 3.059\n",
      "Epoch   7 Batch   48/67   train_loss = 2.871\n",
      "Epoch   7 Batch   59/67   train_loss = 2.821\n",
      "Epoch   8 Batch    3/67   train_loss = 2.853\n",
      "Epoch   8 Batch   14/67   train_loss = 2.827\n",
      "Epoch   8 Batch   25/67   train_loss = 2.819\n",
      "Epoch   8 Batch   36/67   train_loss = 2.763\n",
      "Epoch   8 Batch   47/67   train_loss = 2.748\n",
      "Epoch   8 Batch   58/67   train_loss = 2.566\n",
      "Epoch   9 Batch    2/67   train_loss = 2.449\n",
      "Epoch   9 Batch   13/67   train_loss = 2.478\n",
      "Epoch   9 Batch   24/67   train_loss = 2.538\n",
      "Epoch   9 Batch   35/67   train_loss = 2.474\n",
      "Epoch   9 Batch   46/67   train_loss = 2.355\n",
      "Epoch   9 Batch   57/67   train_loss = 2.339\n",
      "Epoch  10 Batch    1/67   train_loss = 2.256\n",
      "Epoch  10 Batch   12/67   train_loss = 2.348\n",
      "Epoch  10 Batch   23/67   train_loss = 2.281\n",
      "Epoch  10 Batch   34/67   train_loss = 2.330\n",
      "Epoch  10 Batch   45/67   train_loss = 2.225\n",
      "Epoch  10 Batch   56/67   train_loss = 2.141\n",
      "Epoch  11 Batch    0/67   train_loss = 2.117\n",
      "Epoch  11 Batch   11/67   train_loss = 2.033\n",
      "Epoch  11 Batch   22/67   train_loss = 2.101\n",
      "Epoch  11 Batch   33/67   train_loss = 2.032\n",
      "Epoch  11 Batch   44/67   train_loss = 1.929\n",
      "Epoch  11 Batch   55/67   train_loss = 1.952\n",
      "Epoch  11 Batch   66/67   train_loss = 1.881\n",
      "Epoch  12 Batch   10/67   train_loss = 1.895\n",
      "Epoch  12 Batch   21/67   train_loss = 1.949\n",
      "Epoch  12 Batch   32/67   train_loss = 1.860\n",
      "Epoch  12 Batch   43/67   train_loss = 1.813\n",
      "Epoch  12 Batch   54/67   train_loss = 1.786\n",
      "Epoch  12 Batch   65/67   train_loss = 1.783\n",
      "Epoch  13 Batch    9/67   train_loss = 1.667\n",
      "Epoch  13 Batch   20/67   train_loss = 1.734\n",
      "Epoch  13 Batch   31/67   train_loss = 1.719\n",
      "Epoch  13 Batch   42/67   train_loss = 1.553\n",
      "Epoch  13 Batch   53/67   train_loss = 1.579\n",
      "Epoch  13 Batch   64/67   train_loss = 1.615\n",
      "Epoch  14 Batch    8/67   train_loss = 1.549\n",
      "Epoch  14 Batch   19/67   train_loss = 1.432\n",
      "Epoch  14 Batch   30/67   train_loss = 1.468\n",
      "Epoch  14 Batch   41/67   train_loss = 1.487\n",
      "Epoch  14 Batch   52/67   train_loss = 1.456\n",
      "Epoch  14 Batch   63/67   train_loss = 1.393\n",
      "Epoch  15 Batch    7/67   train_loss = 1.428\n",
      "Epoch  15 Batch   18/67   train_loss = 1.399\n",
      "Epoch  15 Batch   29/67   train_loss = 1.366\n",
      "Epoch  15 Batch   40/67   train_loss = 1.264\n",
      "Epoch  15 Batch   51/67   train_loss = 1.335\n",
      "Epoch  15 Batch   62/67   train_loss = 1.243\n",
      "Epoch  16 Batch    6/67   train_loss = 1.210\n",
      "Epoch  16 Batch   17/67   train_loss = 1.274\n",
      "Epoch  16 Batch   28/67   train_loss = 1.170\n",
      "Epoch  16 Batch   39/67   train_loss = 1.225\n",
      "Epoch  16 Batch   50/67   train_loss = 1.112\n",
      "Epoch  16 Batch   61/67   train_loss = 1.146\n",
      "Epoch  17 Batch    5/67   train_loss = 1.044\n",
      "Epoch  17 Batch   16/67   train_loss = 1.077\n",
      "Epoch  17 Batch   27/67   train_loss = 1.040\n",
      "Epoch  17 Batch   38/67   train_loss = 0.965\n",
      "Epoch  17 Batch   49/67   train_loss = 1.048\n",
      "Epoch  17 Batch   60/67   train_loss = 1.017\n",
      "Epoch  18 Batch    4/67   train_loss = 0.895\n",
      "Epoch  18 Batch   15/67   train_loss = 0.857\n",
      "Epoch  18 Batch   26/67   train_loss = 0.984\n",
      "Epoch  18 Batch   37/67   train_loss = 0.903\n",
      "Epoch  18 Batch   48/67   train_loss = 0.905\n",
      "Epoch  18 Batch   59/67   train_loss = 0.926\n",
      "Epoch  19 Batch    3/67   train_loss = 0.859\n",
      "Epoch  19 Batch   14/67   train_loss = 0.840\n",
      "Epoch  19 Batch   25/67   train_loss = 0.816\n",
      "Epoch  19 Batch   36/67   train_loss = 0.748\n",
      "Epoch  19 Batch   47/67   train_loss = 0.795\n",
      "Epoch  19 Batch   58/67   train_loss = 0.666\n",
      "Epoch  20 Batch    2/67   train_loss = 0.736\n",
      "Epoch  20 Batch   13/67   train_loss = 0.734\n",
      "Epoch  20 Batch   24/67   train_loss = 0.703\n",
      "Epoch  20 Batch   35/67   train_loss = 0.700\n",
      "Epoch  20 Batch   46/67   train_loss = 0.620\n",
      "Epoch  20 Batch   57/67   train_loss = 0.650\n",
      "Epoch  21 Batch    1/67   train_loss = 0.608\n",
      "Epoch  21 Batch   12/67   train_loss = 0.655\n",
      "Epoch  21 Batch   23/67   train_loss = 0.645\n",
      "Epoch  21 Batch   34/67   train_loss = 0.635\n",
      "Epoch  21 Batch   45/67   train_loss = 0.573\n",
      "Epoch  21 Batch   56/67   train_loss = 0.537\n",
      "Epoch  22 Batch    0/67   train_loss = 0.562\n",
      "Epoch  22 Batch   11/67   train_loss = 0.517\n",
      "Epoch  22 Batch   22/67   train_loss = 0.555\n",
      "Epoch  22 Batch   33/67   train_loss = 0.491\n",
      "Epoch  22 Batch   44/67   train_loss = 0.462\n",
      "Epoch  22 Batch   55/67   train_loss = 0.488\n",
      "Epoch  22 Batch   66/67   train_loss = 0.471\n",
      "Epoch  23 Batch   10/67   train_loss = 0.506\n",
      "Epoch  23 Batch   21/67   train_loss = 0.452\n",
      "Epoch  23 Batch   32/67   train_loss = 0.456\n",
      "Epoch  23 Batch   43/67   train_loss = 0.454\n",
      "Epoch  23 Batch   54/67   train_loss = 0.427\n",
      "Epoch  23 Batch   65/67   train_loss = 0.445\n",
      "Epoch  24 Batch    9/67   train_loss = 0.395\n",
      "Epoch  24 Batch   20/67   train_loss = 0.447\n",
      "Epoch  24 Batch   31/67   train_loss = 0.450\n",
      "Epoch  24 Batch   42/67   train_loss = 0.345\n",
      "Epoch  24 Batch   53/67   train_loss = 0.317\n",
      "Epoch  24 Batch   64/67   train_loss = 0.365\n",
      "Epoch  25 Batch    8/67   train_loss = 0.380\n",
      "Epoch  25 Batch   19/67   train_loss = 0.318\n",
      "Epoch  25 Batch   30/67   train_loss = 0.340\n",
      "Epoch  25 Batch   41/67   train_loss = 0.378\n",
      "Epoch  25 Batch   52/67   train_loss = 0.344\n",
      "Epoch  25 Batch   63/67   train_loss = 0.371\n",
      "Epoch  26 Batch    7/67   train_loss = 0.352\n",
      "Epoch  26 Batch   18/67   train_loss = 0.326\n",
      "Epoch  26 Batch   29/67   train_loss = 0.290\n",
      "Epoch  26 Batch   40/67   train_loss = 0.302\n",
      "Epoch  26 Batch   51/67   train_loss = 0.344\n",
      "Epoch  26 Batch   62/67   train_loss = 0.313\n",
      "Epoch  27 Batch    6/67   train_loss = 0.299\n",
      "Epoch  27 Batch   17/67   train_loss = 0.334\n",
      "Epoch  27 Batch   28/67   train_loss = 0.272\n",
      "Epoch  27 Batch   39/67   train_loss = 0.317\n",
      "Epoch  27 Batch   50/67   train_loss = 0.275\n",
      "Epoch  27 Batch   61/67   train_loss = 0.299\n",
      "Epoch  28 Batch    5/67   train_loss = 0.276\n",
      "Epoch  28 Batch   16/67   train_loss = 0.283\n",
      "Epoch  28 Batch   27/67   train_loss = 0.245\n",
      "Epoch  28 Batch   38/67   train_loss = 0.258\n",
      "Epoch  28 Batch   49/67   train_loss = 0.291\n",
      "Epoch  28 Batch   60/67   train_loss = 0.270\n",
      "Epoch  29 Batch    4/67   train_loss = 0.275\n",
      "Epoch  29 Batch   15/67   train_loss = 0.228\n",
      "Epoch  29 Batch   26/67   train_loss = 0.300\n",
      "Epoch  29 Batch   37/67   train_loss = 0.275\n",
      "Epoch  29 Batch   48/67   train_loss = 0.248\n",
      "Epoch  29 Batch   59/67   train_loss = 0.295\n",
      "Epoch  30 Batch    3/67   train_loss = 0.257\n",
      "Epoch  30 Batch   14/67   train_loss = 0.250\n",
      "Epoch  30 Batch   25/67   train_loss = 0.269\n",
      "Epoch  30 Batch   36/67   train_loss = 0.263\n",
      "Epoch  30 Batch   47/67   train_loss = 0.259\n",
      "Epoch  30 Batch   58/67   train_loss = 0.255\n",
      "Epoch  31 Batch    2/67   train_loss = 0.270\n",
      "Epoch  31 Batch   13/67   train_loss = 0.244\n",
      "Epoch  31 Batch   24/67   train_loss = 0.246\n",
      "Epoch  31 Batch   35/67   train_loss = 0.276\n",
      "Epoch  31 Batch   46/67   train_loss = 0.222\n",
      "Epoch  31 Batch   57/67   train_loss = 0.259\n",
      "Epoch  32 Batch    1/67   train_loss = 0.223\n",
      "Epoch  32 Batch   12/67   train_loss = 0.281\n",
      "Epoch  32 Batch   23/67   train_loss = 0.276\n",
      "Epoch  32 Batch   34/67   train_loss = 0.259\n",
      "Epoch  32 Batch   45/67   train_loss = 0.246\n",
      "Epoch  32 Batch   56/67   train_loss = 0.270\n",
      "Epoch  33 Batch    0/67   train_loss = 0.253\n",
      "Epoch  33 Batch   11/67   train_loss = 0.241\n",
      "Epoch  33 Batch   22/67   train_loss = 0.257\n",
      "Epoch  33 Batch   33/67   train_loss = 0.219\n",
      "Epoch  33 Batch   44/67   train_loss = 0.212\n",
      "Epoch  33 Batch   55/67   train_loss = 0.243\n",
      "Epoch  33 Batch   66/67   train_loss = 0.227\n",
      "Epoch  34 Batch   10/67   train_loss = 0.241\n",
      "Epoch  34 Batch   21/67   train_loss = 0.254\n",
      "Epoch  34 Batch   32/67   train_loss = 0.254\n",
      "Epoch  34 Batch   43/67   train_loss = 0.243\n",
      "Epoch  34 Batch   54/67   train_loss = 0.227\n",
      "Epoch  34 Batch   65/67   train_loss = 0.251\n",
      "Epoch  35 Batch    9/67   train_loss = 0.230\n",
      "Epoch  35 Batch   20/67   train_loss = 0.277\n",
      "Epoch  35 Batch   31/67   train_loss = 0.272\n",
      "Epoch  35 Batch   42/67   train_loss = 0.218\n",
      "Epoch  35 Batch   53/67   train_loss = 0.199\n",
      "Epoch  35 Batch   64/67   train_loss = 0.229\n",
      "Epoch  36 Batch    8/67   train_loss = 0.226\n",
      "Epoch  36 Batch   19/67   train_loss = 0.222\n",
      "Epoch  36 Batch   30/67   train_loss = 0.225\n",
      "Epoch  36 Batch   41/67   train_loss = 0.252\n",
      "Epoch  36 Batch   52/67   train_loss = 0.239\n",
      "Epoch  36 Batch   63/67   train_loss = 0.251\n",
      "Epoch  37 Batch    7/67   train_loss = 0.260\n",
      "Epoch  37 Batch   18/67   train_loss = 0.237\n",
      "Epoch  37 Batch   29/67   train_loss = 0.221\n",
      "Epoch  37 Batch   40/67   train_loss = 0.233\n",
      "Epoch  37 Batch   51/67   train_loss = 0.271\n",
      "Epoch  37 Batch   62/67   train_loss = 0.250\n",
      "Epoch  38 Batch    6/67   train_loss = 0.226\n",
      "Epoch  38 Batch   17/67   train_loss = 0.273\n",
      "Epoch  38 Batch   28/67   train_loss = 0.217\n",
      "Epoch  38 Batch   39/67   train_loss = 0.259\n",
      "Epoch  38 Batch   50/67   train_loss = 0.205\n",
      "Epoch  38 Batch   61/67   train_loss = 0.235\n",
      "Epoch  39 Batch    5/67   train_loss = 0.225\n",
      "Epoch  39 Batch   16/67   train_loss = 0.235\n",
      "Epoch  39 Batch   27/67   train_loss = 0.209\n",
      "Epoch  39 Batch   38/67   train_loss = 0.222\n",
      "Epoch  39 Batch   49/67   train_loss = 0.244\n",
      "Epoch  39 Batch   60/67   train_loss = 0.228\n",
      "Epoch  40 Batch    4/67   train_loss = 0.234\n",
      "Epoch  40 Batch   15/67   train_loss = 0.197\n",
      "Epoch  40 Batch   26/67   train_loss = 0.261\n",
      "Epoch  40 Batch   37/67   train_loss = 0.248\n",
      "Epoch  40 Batch   48/67   train_loss = 0.210\n",
      "Epoch  40 Batch   59/67   train_loss = 0.262\n",
      "Epoch  41 Batch    3/67   train_loss = 0.223\n",
      "Epoch  41 Batch   14/67   train_loss = 0.223\n",
      "Epoch  41 Batch   25/67   train_loss = 0.249\n",
      "Epoch  41 Batch   36/67   train_loss = 0.238\n",
      "Epoch  41 Batch   47/67   train_loss = 0.228\n",
      "Epoch  41 Batch   58/67   train_loss = 0.236\n",
      "Epoch  42 Batch    2/67   train_loss = 0.244\n",
      "Epoch  42 Batch   13/67   train_loss = 0.219\n",
      "Epoch  42 Batch   24/67   train_loss = 0.222\n",
      "Epoch  42 Batch   35/67   train_loss = 0.254\n",
      "Epoch  42 Batch   46/67   train_loss = 0.202\n",
      "Epoch  42 Batch   57/67   train_loss = 0.239\n",
      "Epoch  43 Batch    1/67   train_loss = 0.202\n",
      "Epoch  43 Batch   12/67   train_loss = 0.261\n",
      "Epoch  43 Batch   23/67   train_loss = 0.258\n",
      "Epoch  43 Batch   34/67   train_loss = 0.245\n",
      "Epoch  43 Batch   45/67   train_loss = 0.228\n",
      "Epoch  43 Batch   56/67   train_loss = 0.252\n",
      "Epoch  44 Batch    0/67   train_loss = 0.236\n",
      "Epoch  44 Batch   11/67   train_loss = 0.225\n",
      "Epoch  44 Batch   22/67   train_loss = 0.240\n",
      "Epoch  44 Batch   33/67   train_loss = 0.204\n",
      "Epoch  44 Batch   44/67   train_loss = 0.197\n",
      "Epoch  44 Batch   55/67   train_loss = 0.232\n",
      "Epoch  44 Batch   66/67   train_loss = 0.215\n",
      "Epoch  45 Batch   10/67   train_loss = 0.224\n",
      "Epoch  45 Batch   21/67   train_loss = 0.237\n",
      "Epoch  45 Batch   32/67   train_loss = 0.241\n",
      "Epoch  45 Batch   43/67   train_loss = 0.234\n",
      "Epoch  45 Batch   54/67   train_loss = 0.214\n",
      "Epoch  45 Batch   65/67   train_loss = 0.231\n",
      "Epoch  46 Batch    9/67   train_loss = 0.218\n",
      "Epoch  46 Batch   20/67   train_loss = 0.268\n",
      "Epoch  46 Batch   31/67   train_loss = 0.261\n",
      "Epoch  46 Batch   42/67   train_loss = 0.206\n",
      "Epoch  46 Batch   53/67   train_loss = 0.190\n",
      "Epoch  46 Batch   64/67   train_loss = 0.214\n",
      "Epoch  47 Batch    8/67   train_loss = 0.216\n",
      "Epoch  47 Batch   19/67   train_loss = 0.214\n",
      "Epoch  47 Batch   30/67   train_loss = 0.213\n",
      "Epoch  47 Batch   41/67   train_loss = 0.239\n",
      "Epoch  47 Batch   52/67   train_loss = 0.229\n",
      "Epoch  47 Batch   63/67   train_loss = 0.240\n",
      "Epoch  48 Batch    7/67   train_loss = 0.250\n",
      "Epoch  48 Batch   18/67   train_loss = 0.226\n",
      "Epoch  48 Batch   29/67   train_loss = 0.214\n",
      "Epoch  48 Batch   40/67   train_loss = 0.224\n",
      "Epoch  48 Batch   51/67   train_loss = 0.258\n",
      "Epoch  48 Batch   62/67   train_loss = 0.246\n",
      "Epoch  49 Batch    6/67   train_loss = 0.219\n",
      "Epoch  49 Batch   17/67   train_loss = 0.263\n",
      "Epoch  49 Batch   28/67   train_loss = 0.206\n",
      "Epoch  49 Batch   39/67   train_loss = 0.250\n",
      "Epoch  49 Batch   50/67   train_loss = 0.198\n",
      "Epoch  49 Batch   61/67   train_loss = 0.231\n",
      "Model Trained and Saved\n"
     ]
    }
   ],
   "source": [
    "\"\"\"\n",
    "DON'T MODIFY ANYTHING IN THIS CELL\n",
    "\"\"\"\n",
    "batches = get_batches(int_text, batch_size, seq_length)\n",
    "\n",
    "with tf.Session(graph=train_graph) as sess:\n",
    "    sess.run(tf.global_variables_initializer())\n",
    "\n",
    "    for epoch_i in range(num_epochs):\n",
    "        state = sess.run(initial_state, {input_text: batches[0][0]})\n",
    "\n",
    "        for batch_i, (x, y) in enumerate(batches):\n",
    "            feed = {\n",
    "                input_text: x,\n",
    "                targets: y,\n",
    "                initial_state: state,\n",
    "                lr: learning_rate}\n",
    "            train_loss, state, _ = sess.run([cost, final_state, train_op], feed)\n",
    "\n",
    "            # Show every <show_every_n_batches> batches\n",
    "            if (epoch_i * len(batches) + batch_i) % show_every_n_batches == 0:\n",
    "                print('Epoch {:>3} Batch {:>4}/{}   train_loss = {:.3f}'.format(\n",
    "                    epoch_i,\n",
    "                    batch_i,\n",
    "                    len(batches),\n",
    "                    train_loss))\n",
    "\n",
    "    # Save Model\n",
    "    saver = tf.train.Saver()\n",
    "    saver.save(sess, save_dir)\n",
    "    print('Model Trained and Saved')"
   ]
  },
  {
   "cell_type": "markdown",
   "metadata": {
    "deletable": true,
    "editable": true
   },
   "source": [
    "## Save Parameters\n",
    "Save `seq_length` and `save_dir` for generating a new TV script."
   ]
  },
  {
   "cell_type": "code",
   "execution_count": 17,
   "metadata": {
    "collapsed": false,
    "deletable": true,
    "editable": true
   },
   "outputs": [],
   "source": [
    "\"\"\"\n",
    "DON'T MODIFY ANYTHING IN THIS CELL\n",
    "\"\"\"\n",
    "# Save parameters for checkpoint\n",
    "helper.save_params((seq_length, save_dir))"
   ]
  },
  {
   "cell_type": "markdown",
   "metadata": {
    "deletable": true,
    "editable": true
   },
   "source": [
    "# Checkpoint"
   ]
  },
  {
   "cell_type": "code",
   "execution_count": 18,
   "metadata": {
    "collapsed": false,
    "deletable": true,
    "editable": true
   },
   "outputs": [],
   "source": [
    "\"\"\"\n",
    "DON'T MODIFY ANYTHING IN THIS CELL\n",
    "\"\"\"\n",
    "import tensorflow as tf\n",
    "import numpy as np\n",
    "import helper\n",
    "import problem_unittests as tests\n",
    "\n",
    "_, vocab_to_int, int_to_vocab, token_dict = helper.load_preprocess()\n",
    "seq_length, load_dir = helper.load_params()"
   ]
  },
  {
   "cell_type": "markdown",
   "metadata": {
    "deletable": true,
    "editable": true
   },
   "source": [
    "## Implement Generate Functions\n",
    "### Get Tensors\n",
    "Get tensors from `loaded_graph` using the function [`get_tensor_by_name()`](https://www.tensorflow.org/api_docs/python/tf/Graph#get_tensor_by_name).  Get the tensors using the following names:\n",
    "- \"input:0\"\n",
    "- \"initial_state:0\"\n",
    "- \"final_state:0\"\n",
    "- \"probs:0\"\n",
    "\n",
    "Return the tensors in the following tuple `(InputTensor, InitialStateTensor, FinalStateTensor, ProbsTensor)` "
   ]
  },
  {
   "cell_type": "code",
   "execution_count": 19,
   "metadata": {
    "collapsed": false,
    "deletable": true,
    "editable": true
   },
   "outputs": [
    {
     "name": "stdout",
     "output_type": "stream",
     "text": [
      "Tests Passed\n"
     ]
    }
   ],
   "source": [
    "def get_tensors(loaded_graph):\n",
    "    \"\"\"\n",
    "    Get input, initial state, final state, and probabilities tensor from <loaded_graph>\n",
    "    :param loaded_graph: TensorFlow graph loaded from file\n",
    "    :return: Tuple (InputTensor, InitialStateTensor, FinalStateTensor, ProbsTensor)\n",
    "    \"\"\"\n",
    "    # TODO: Implement Function\n",
    "    input_tensor = loaded_graph.get_tensor_by_name('input:0')\n",
    "    initial_state_tensor = loaded_graph.get_tensor_by_name('initial_state:0')\n",
    "    final_state_tensor = loaded_graph.get_tensor_by_name('final_state:0')\n",
    "    probs_tensor = loaded_graph.get_tensor_by_name('probs:0')\n",
    "    \n",
    "    return input_tensor, initial_state_tensor, final_state_tensor, probs_tensor\n",
    "\n",
    "\n",
    "\"\"\"\n",
    "DON'T MODIFY ANYTHING IN THIS CELL THAT IS BELOW THIS LINE\n",
    "\"\"\"\n",
    "tests.test_get_tensors(get_tensors)"
   ]
  },
  {
   "cell_type": "markdown",
   "metadata": {
    "deletable": true,
    "editable": true
   },
   "source": [
    "### Choose Word\n",
    "Implement the `pick_word()` function to select the next word using `probabilities`."
   ]
  },
  {
   "cell_type": "code",
   "execution_count": 20,
   "metadata": {
    "collapsed": false,
    "deletable": true,
    "editable": true
   },
   "outputs": [
    {
     "name": "stdout",
     "output_type": "stream",
     "text": [
      "Tests Passed\n"
     ]
    }
   ],
   "source": [
    "import random\n",
    "\n",
    "def pick_word(probabilities, int_to_vocab):\n",
    "    \"\"\"\n",
    "    Pick the next word in the generated text\n",
    "    :param probabilities: Probabilites of the next word\n",
    "    :param int_to_vocab: Dictionary of word ids as the keys and words as the values\n",
    "    :return: String of the predicted word\n",
    "    \"\"\"\n",
    "    # TODO: Implement Function\n",
    "    #print(probabilities)\n",
    "    #print(int_to_vocab)\n",
    "    random_num = random.uniform(0, 1.0)\n",
    "    #print(random_num)\n",
    "    cum_prob = 0\n",
    "    for i, word in enumerate(int_to_vocab):\n",
    "        cum_prob += probabilities[i]\n",
    "        if (random_num <= cum_prob):\n",
    "            #print(i, cum_prob, int_to_vocab[word])\n",
    "            break\n",
    "            \n",
    "    return int_to_vocab[word]\n",
    "\n",
    "\n",
    "\"\"\"\n",
    "DON'T MODIFY ANYTHING IN THIS CELL THAT IS BELOW THIS LINE\n",
    "\"\"\"\n",
    "tests.test_pick_word(pick_word)"
   ]
  },
  {
   "cell_type": "markdown",
   "metadata": {
    "deletable": true,
    "editable": true
   },
   "source": [
    "## Generate TV Script\n",
    "This will generate the TV script for you.  Set `gen_length` to the length of TV script you want to generate."
   ]
  },
  {
   "cell_type": "code",
   "execution_count": 21,
   "metadata": {
    "collapsed": false,
    "deletable": true,
    "editable": true
   },
   "outputs": [
    {
     "name": "stdout",
     "output_type": "stream",
     "text": [
      "moe_szyslak: hey, just a sec, i'll check.(to everyone) amanda huggenkiss! /(concerned)\n",
      "homer_simpson:(reading)\" can i borrow a feeling?\"(still laughing) there's your father!\n",
      "homer_simpson: and so will...(points to door)\n",
      "moe_szyslak:(sigh) oh, me. my body words is either so i'm gonna up.\n",
      "moe_szyslak:(sings) he's lenny!\n",
      "moe_szyslak:(sings) oh ned, the. i want to the brother, right.\n",
      "professor_jonathan_frink: the only one question know, you should say it.\n",
      "homer_simpson:(weary) oh man, i don't get your hands.\n",
      "moe_szyslak: i got something a beer.\n",
      "moe_szyslak:(warily) oh, you did.\n",
      "homer_simpson: and now i don't know. i'll just get some plastic surgery...\n",
      "moe_szyslak:(stunned) oh my. oh my car is.\n",
      "you just mind.\n",
      "moe_szyslak: hi. with a game ago to... turn him!\n",
      "moe_szyslak:(sobs) oh\n"
     ]
    }
   ],
   "source": [
    "gen_length = 200\n",
    "# homer_simpson, moe_szyslak, or Barney_Gumble\n",
    "prime_word = 'moe_szyslak'\n",
    "\n",
    "\"\"\"\n",
    "DON'T MODIFY ANYTHING IN THIS CELL THAT IS BELOW THIS LINE\n",
    "\"\"\"\n",
    "loaded_graph = tf.Graph()\n",
    "with tf.Session(graph=loaded_graph) as sess:\n",
    "    # Load saved model\n",
    "    loader = tf.train.import_meta_graph(load_dir + '.meta')\n",
    "    loader.restore(sess, load_dir)\n",
    "\n",
    "    # Get Tensors from loaded model\n",
    "    input_text, initial_state, final_state, probs = get_tensors(loaded_graph)\n",
    "\n",
    "    # Sentences generation setup\n",
    "    gen_sentences = [prime_word + ':']\n",
    "    prev_state = sess.run(initial_state, {input_text: np.array([[1]])})\n",
    "\n",
    "    # Generate sentences\n",
    "    for n in range(gen_length):\n",
    "        # Dynamic Input\n",
    "        dyn_input = [[vocab_to_int[word] for word in gen_sentences[-seq_length:]]]\n",
    "        dyn_seq_length = len(dyn_input[0])\n",
    "\n",
    "        # Get Prediction\n",
    "        probabilities, prev_state = sess.run(\n",
    "            [probs, final_state],\n",
    "            {input_text: dyn_input, initial_state: prev_state})\n",
    "        \n",
    "        pred_word = pick_word(probabilities[dyn_seq_length-1], int_to_vocab)\n",
    "\n",
    "        gen_sentences.append(pred_word)\n",
    "    \n",
    "    # Remove tokens\n",
    "    tv_script = ' '.join(gen_sentences)\n",
    "    for key, token in token_dict.items():\n",
    "        ending = ' ' if key in ['\\n', '(', '\"'] else ''\n",
    "        tv_script = tv_script.replace(' ' + token.lower(), key)\n",
    "    tv_script = tv_script.replace('\\n ', '\\n')\n",
    "    tv_script = tv_script.replace('( ', '(')\n",
    "        \n",
    "    print(tv_script)"
   ]
  },
  {
   "cell_type": "markdown",
   "metadata": {
    "deletable": true,
    "editable": true
   },
   "source": [
    "# The TV Script is Nonsensical\n",
    "It's ok if the TV script doesn't make any sense.  We trained on less than a megabyte of text.  In order to get good results, you'll have to use a smaller vocabulary or get more data.  Luckly there's more data!  As we mentioned in the begging of this project, this is a subset of [another dataset](https://www.kaggle.com/wcukierski/the-simpsons-by-the-data).  We didn't have you train on all the data, because that would take too long.  However, you are free to train your neural network on all the data.  After you complete the project, of course.\n",
    "# Submitting This Project\n",
    "When submitting this project, make sure to run all the cells before saving the notebook. Save the notebook file as \"dlnd_tv_script_generation.ipynb\" and save it as a HTML file under \"File\" -> \"Download as\". Include the \"helper.py\" and \"problem_unittests.py\" files in your submission."
   ]
  }
 ],
 "metadata": {
  "kernelspec": {
   "display_name": "Python 3",
   "language": "python",
   "name": "python3"
  },
  "language_info": {
   "codemirror_mode": {
    "name": "ipython",
    "version": 3
   },
   "file_extension": ".py",
   "mimetype": "text/x-python",
   "name": "python",
   "nbconvert_exporter": "python",
   "pygments_lexer": "ipython3",
   "version": "3.5.3"
  },
  "widgets": {
   "state": {},
   "version": "1.1.2"
  }
 },
 "nbformat": 4,
 "nbformat_minor": 0
}
